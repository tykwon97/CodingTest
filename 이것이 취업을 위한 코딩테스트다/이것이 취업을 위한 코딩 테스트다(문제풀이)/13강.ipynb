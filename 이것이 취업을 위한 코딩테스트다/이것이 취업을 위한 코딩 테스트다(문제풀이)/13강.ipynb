{
 "cells": [
  {
   "cell_type": "code",
   "execution_count": 21,
   "metadata": {},
   "outputs": [
    {
     "name": "stdout",
     "output_type": "stream",
     "text": [
      "25 5\n",
      "cnt :  2\n"
     ]
    }
   ],
   "source": [
    "'''\n",
    "문제 : 1이 될때까지\n",
    "입력 조건 : 첫째 줄에 N(1 <= <= 100,000)과 K(2 <= K <=100,000)가\n",
    "공백을 기준으로 하여 각각 자연수로 주어집니다.\n",
    "출력 조건 : 첫째 줄에 N이 1이 될때까지, 1번 혹시 2번의 과정을 수행해야 하는\n",
    "횟수의 최솟값을 출력합니다.\n",
    "조건\n",
    "1. N에서 1을 뺍니다.\n",
    "2. N을 k로 나눕니다.\n",
    "'''\n",
    "\n",
    "n,k = map(int,input().split(\" \"))\n",
    "\n",
    "cnt=0\n",
    "\n",
    "while(n != 1):\n",
    "    if(n%k == 0):\n",
    "        n = n//k\n",
    "    else:\n",
    "        n -= 1\n",
    "    cnt += 1\n",
    "print(\"cnt : \",cnt)"
   ]
  },
  {
   "cell_type": "code",
   "execution_count": 23,
   "metadata": {},
   "outputs": [
    {
     "name": "stdout",
     "output_type": "stream",
     "text": [
      "25 5\n",
      "2\n"
     ]
    }
   ],
   "source": [
    "#위 코드보다 시간 복잡도 빠르다.\n",
    "\n",
    "n, k = map(int, input().split())\n",
    "\n",
    "result = 0\n",
    "\n",
    "while True:\n",
    "    #N이 K로 나누어 떨어지는 수가 될 떄까지 빼기\n",
    "    target = (n // k) * k\n",
    "    result += (n - target)\n",
    "    n = target\n",
    "    \n",
    "    #N이 k보다 작을때 (더 이상 나눌 수 없을 때) 반복문 탈출\n",
    "    if n < k :\n",
    "        break\n",
    "        \n",
    "    #K로 나누기\n",
    "    result += 1\n",
    "    n //=  k\n",
    "    \n",
    "#마지막으로 남은 수에 대하여 1씩 빼기\n",
    "result += (n - 1)\n",
    "print(result)"
   ]
  },
  {
   "cell_type": "code",
   "execution_count": null,
   "metadata": {},
   "outputs": [],
   "source": []
  },
  {
   "cell_type": "code",
   "execution_count": 36,
   "metadata": {},
   "outputs": [
    {
     "name": "stdout",
     "output_type": "stream",
     "text": [
      "01452\n",
      "40\n"
     ]
    }
   ],
   "source": [
    "'''\n",
    "문제 : 곱하기 혹은 더하기\n",
    "입력 조건 : 첫쨰 줄에 여러개의 숫자로 구성된 하나의 문자열 s가 주어니다.\n",
    "출력 조건 : 첫째 줄에 만들어질 수 있는 가장 큰 수를 출력합니다.\n",
    "'''\n",
    "\n",
    "num = int(input())\n",
    "array=str(num)\n",
    "result=0\n",
    "\n",
    "for n in array:\n",
    "    n=int(n)\n",
    "    if(n==1):\n",
    "        result += 1\n",
    "    else:\n",
    "        if(result == 0):\n",
    "            result = n\n",
    "        else:\n",
    "            if(n!=0):\n",
    "                result = result * n\n",
    "print(result)\n",
    "#result가 1인경우 더해줘야되는데 곱하기함 실수"
   ]
  },
  {
   "cell_type": "code",
   "execution_count": 35,
   "metadata": {},
   "outputs": [
    {
     "name": "stdout",
     "output_type": "stream",
     "text": [
      "04621\n",
      "49\n"
     ]
    }
   ],
   "source": [
    "data = input()\n",
    "\n",
    "#첫 번째 문자를 숫자로 변경하여 대입\n",
    "result = int(data[0])\n",
    "\n",
    "for i in range(1,len(data)):\n",
    "    #두 수 중에서 하나라도 '0' 혹은 '1'인 경우, 곱하기보다는 더하기 수행\n",
    "    num = int(data[i])\n",
    "    if(num <= 1 or result <= 1):\n",
    "        result += num\n",
    "    else:\n",
    "        result *= num\n",
    "            \n",
    "print(result)"
   ]
  },
  {
   "cell_type": "code",
   "execution_count": null,
   "metadata": {},
   "outputs": [],
   "source": []
  },
  {
   "cell_type": "code",
   "execution_count": 1,
   "metadata": {},
   "outputs": [
    {
     "name": "stdout",
     "output_type": "stream",
     "text": [
      "5\n",
      "1 4 3 2 2\n",
      "2\n"
     ]
    }
   ],
   "source": [
    "#모험가 문제 : 이해 못함\n",
    "'''\n",
    "입력 조건 : 첫째 줄에 모험가의 수 N이 주어진다.\n",
    "            둘째 줄에 각 모험가의 공포도의 값을 N이하의 자연수로 주어지며, 각 자연수는 공백으로 구분\n",
    "출력 조건 : 여행을 떠날 수 있는 그룹 수의 최대값을 출력합니다.            \n",
    "'''\n",
    "\n",
    "#오름차순 정렬 이후 공포도가 가장 낮은 모험가부터 하나씩 확인\n",
    "\n",
    "n = int(input())\n",
    "data = list(map(int,input().split()))\n",
    "data.sort()\n",
    "\n",
    "result = 0 #총 그룹의 수\n",
    "count = 0 #현재 그룹에 포함된 모험가의 수\n",
    "\n",
    "for i in data : #공포도를 낮은 것부터 하나씩 확인\n",
    "    count += 1 #현재 그룹에 해당 모험가를 포함시키기\n",
    "    if(count >= i): #현재 그룹에 포함된 모험가의 수가 현재의 공포도 이상이라면, 그룹 결성\n",
    "        result += 1 #총 그룹의 수 증가시키기\n",
    "        count = 0 #현재 그룹에 포함된 모험가의 수 초기화\n",
    "print(result) #총 그룹의 수 출력"
   ]
  }
 ],
 "metadata": {
  "kernelspec": {
   "display_name": "Python 3",
   "language": "python",
   "name": "python3"
  },
  "language_info": {
   "codemirror_mode": {
    "name": "ipython",
    "version": 3
   },
   "file_extension": ".py",
   "mimetype": "text/x-python",
   "name": "python",
   "nbconvert_exporter": "python",
   "pygments_lexer": "ipython3",
   "version": "3.8.5"
  }
 },
 "nbformat": 4,
 "nbformat_minor": 4
}
