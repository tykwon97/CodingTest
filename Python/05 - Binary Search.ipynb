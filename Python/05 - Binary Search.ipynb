{
 "cells": [
  {
   "cell_type": "code",
   "execution_count": 1,
   "metadata": {},
   "outputs": [
    {
     "name": "stdout",
     "output_type": "stream",
     "text": [
      "생성할 원소 개수를 입력한 다음 한 칸 띄고 찾을 문자열을 입력하세요.\n",
      "5 Taeyoon\n",
      "앞서 적은 원소 개수만큼 문자열을 입력하세요. 구분은 띄어쓰기로 한 칸으로 합니다.\n",
      "Hanul Jonggu Taeyoon Taeil Sangwook\n",
      "3\n"
     ]
    }
   ],
   "source": [
    "# 순차 탐색 코드\n",
    "def sequential_search(n, target,array):\n",
    "    #각 원소를 하나씩 확인하며\n",
    "    for i in range(n):\n",
    "        if(array[i] == target):\n",
    "            return i+1 #현재의 위치 반환(인덱스는 0부터 시작하므로 1 더하기)\n",
    "    \n",
    "print(\"생성할 원소 개수를 입력한 다음 한 칸 띄고 찾을 문자열을 입력하세요.\")\n",
    "input_data = input().split()\n",
    "n = int(input_data[0])\n",
    "target = input_data[1] #찾고자 하는 문자열\n",
    "\n",
    "print(\"앞서 적은 원소 개수만큼 문자열을 입력하세요. 구분은 띄어쓰기로 한 칸으로 합니다.\")\n",
    "array = input().split()\n",
    "\n",
    "#순차 탐색 수행 결과 출력\n",
    "print(sequential_search(n,target,array))"
   ]
  },
  {
   "cell_type": "code",
   "execution_count": 3,
   "metadata": {},
   "outputs": [
    {
     "name": "stdout",
     "output_type": "stream",
     "text": [
      "10 7\n",
      "1 3 5 7 9 11 13 15 17 19\n",
      "4\n"
     ]
    }
   ],
   "source": [
    "# 이진 탐색 코드(재귀함수)\n",
    "def binary_search(array, target, start, end):\n",
    "    if(start>end):\n",
    "        return None\n",
    "    mid = (start+end) // 2\n",
    "    #찾은 경우 중간점 인덱스 반환\n",
    "    if(array[mid] == target):\n",
    "        return mid\n",
    "    #중간점의 값보다 찾고자 하는 값이 작은 경우 왼쪽 확인\n",
    "    elif(array[mid] > target):\n",
    "        return binary_search(array,target,start,mid-1)\n",
    "    else:\n",
    "        return binary_search(array,target,mid+1,end)\n",
    "    \n",
    "#n(원소의 개수)과 target(찾고자 하는 문자열)을 입력받기\n",
    "n,target = list(map(int,input().split()))\n",
    "#전체 원소 입력받기\n",
    "array = list(map(int,input().split()))\n",
    "\n",
    "#이진 탐색 수행 결과 출력\n",
    "result = binary_search(array,target,0,n-1)\n",
    "if(result == None):\n",
    "    print(\"원소가 존재하지 않습니다.\")\n",
    "else:\n",
    "    print(result + 1)\n"
   ]
  },
  {
   "cell_type": "code",
   "execution_count": 2,
   "metadata": {},
   "outputs": [
    {
     "name": "stdout",
     "output_type": "stream",
     "text": [
      "10 7\n",
      "1 3 5 7 9 11 13 15 17 19\n",
      "4\n"
     ]
    }
   ],
   "source": [
    "# 이진 탐색 코드(반복문)\n",
    "def binary_search(array, target, start, end):\n",
    "    while (start <= end):\n",
    "        mid = (start+end) // 2\n",
    "        #찾은 경우 중간점 인덱스 반환\n",
    "        if(array[mid] == target):\n",
    "            return mid\n",
    "        #중간점의 값보다 찾고자 하는 값이 작은 경우 왼쪽 확인\n",
    "        elif(array[mid] > target):\n",
    "            end = mid -1\n",
    "        #중간점의 값보다 찾고자 하는 값이 큰 경우 오른쪽 확인\n",
    "        else:\n",
    "            start = mid + 1\n",
    "    return None\n",
    "\n",
    "#n(원소의 개수)가 target(찾고자 하는 문자열)을 입력받기\n",
    "n, target = list(map(int,input().split()))\n",
    "#전체 원소 입력받기\n",
    "array = list(map(int,input().split()))\n",
    "\n",
    "#이진 탐색 수행 결과 출력\n",
    "result = binary_search(array,target,0,n-1)\n",
    "if result == None :\n",
    "    print(\"원소가 존재하지 않습니다.\")\n",
    "else:\n",
    "    print(result+1)"
   ]
  }
 ],
 "metadata": {
  "kernelspec": {
   "display_name": "Python 3",
   "language": "python",
   "name": "python3"
  },
  "language_info": {
   "codemirror_mode": {
    "name": "ipython",
    "version": 3
   },
   "file_extension": ".py",
   "mimetype": "text/x-python",
   "name": "python",
   "nbconvert_exporter": "python",
   "pygments_lexer": "ipython3",
   "version": "3.8.5"
  }
 },
 "nbformat": 4,
 "nbformat_minor": 4
}
