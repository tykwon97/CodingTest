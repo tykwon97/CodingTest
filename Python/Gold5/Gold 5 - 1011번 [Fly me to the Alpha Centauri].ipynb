{
 "cells": [
  {
   "cell_type": "code",
   "execution_count": 27,
   "metadata": {},
   "outputs": [
    {
     "name": "stdout",
     "output_type": "stream",
     "text": [
      "3\n",
      "0 3\n",
      "1 5\n",
      "45 50\n",
      "3\n",
      "3\n",
      "4\n"
     ]
    }
   ],
   "source": [
    "number = int(input())\n",
    "list = [input() for _ in range(number)]\n",
    "for n in range(number) :\n",
    "    a,b = map(int,list[n].split())\n",
    "    x = b-a\n",
    "    count = 1\n",
    "    y=1\n",
    "    while(x>0) :\n",
    "        if(x-y>0):\n",
    "            x -= y\n",
    "            count += 1\n",
    "        if(x-y>0):\n",
    "            x -= y\n",
    "            y += 1\n",
    "            count += 1\n",
    "        else:\n",
    "            break\n",
    "    print(count)"
   ]
  },
  {
   "cell_type": "code",
   "execution_count": null,
   "metadata": {},
   "outputs": [],
   "source": []
  }
 ],
 "metadata": {
  "kernelspec": {
   "display_name": "Python 3",
   "language": "python",
   "name": "python3"
  },
  "language_info": {
   "codemirror_mode": {
    "name": "ipython",
    "version": 3
   },
   "file_extension": ".py",
   "mimetype": "text/x-python",
   "name": "python",
   "nbconvert_exporter": "python",
   "pygments_lexer": "ipython3",
   "version": "3.8.5"
  }
 },
 "nbformat": 4,
 "nbformat_minor": 4
}
