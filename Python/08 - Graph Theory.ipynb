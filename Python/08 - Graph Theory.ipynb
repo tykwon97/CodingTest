{
 "cells": [
  {
   "cell_type": "code",
   "execution_count": 6,
   "metadata": {},
   "outputs": [
    {
     "name": "stdout",
     "output_type": "stream",
     "text": [
      "6 4\n",
      "1 4\n",
      "2 3\n",
      "2 4\n",
      "5 6\n",
      "각 원소가 속한 집합 :  1 1 1 1 5 5 \n",
      "부모 테이블 :  1 1 2 1 5 5 "
     ]
    }
   ],
   "source": [
    "#기본적인 서로수 집합 알고리즘\n",
    "\n",
    "#특정 원소가 속한 집합을 찾기\n",
    "def find_parent(parent,x):\n",
    "    #루트 노드가 아니라면, 루트 노드를 찾을 때까지 재귀적으로 호출\n",
    "    if(parent[x] != x):\n",
    "        return find_parent(parent,parent[x])\n",
    "    return x\n",
    "\n",
    "#두 원소가 속한 집합을 합치기\n",
    "def union_parent(parent, a, b):\n",
    "    a = find_parent(parent,a)\n",
    "    b = find_parent(parent,b)\n",
    "    if(a<b):\n",
    "        parent[b] = a\n",
    "    else:\n",
    "        parent[a] = b\n",
    "        \n",
    "#노드의 개수와 간선(union 연산)의 개수 입력받기\n",
    "v,e = map(int,input().split())\n",
    "parent = [0] * (v+1) #부모 테이블 초기화\n",
    "\n",
    "#부모 테이블상에서, 부모를 자기 자신으로 초기화\n",
    "for i in range(1,v+1):\n",
    "    parent[i] = i\n",
    "    \n",
    "#union 연산을 각각 수행\n",
    "for i in range(e):\n",
    "    a,b = map(int,input().split())\n",
    "    union_parent(parent, a, b)\n",
    "    \n",
    "#각 원소가 속한 집합 출력\n",
    "print('각 원소가 속한 집합 : ',end = \" \")\n",
    "for i in range(1, v+1):\n",
    "    print(find_parent(parent,i), end = \" \")\n",
    "    \n",
    "print()\n",
    "\n",
    "#부모 테이블 내용 출력\n",
    "print(\"부모 테이블 : \", end = \" \")\n",
    "for i in range(1, v+1):\n",
    "    print(parent[i], end = \" \")"
   ]
  },
  {
   "cell_type": "code",
   "execution_count": 4,
   "metadata": {},
   "outputs": [
    {
     "name": "stdout",
     "output_type": "stream",
     "text": [
      "6 4\n",
      "1 4\n",
      "2 3\n",
      "2 4\n",
      "5 6\n",
      "각 원소가 속한 집합 :  1 1 1 1 5 5 \n",
      "부모 테이블 :  1 1 1 1 5 5 "
     ]
    }
   ],
   "source": [
    "#개선된 서로수 집합 알고리즘\n",
    "\n",
    "#특정 원소가 속한 집합을 찾기\n",
    "def find_parent(parent,x):\n",
    "    #루트 노드가 아니라면, 루트 노드를 찾을 때까지 재귀적으로 호출\n",
    "    if(parent[x] != x):\n",
    "        parent[x] = find_parent(parent,parent[x])\n",
    "    return parent[x]\n",
    "\n",
    "#두 원소가 속한 집합을 합치기\n",
    "def union_parent(parent, a, b):\n",
    "    a = find_parent(parent,a)\n",
    "    b = find_parent(parent,b)\n",
    "    if(a<b):\n",
    "        parent[b] = a\n",
    "    else:\n",
    "        parent[a] = b\n",
    "        \n",
    "#노드의 개수와 간선(union 연산)의 개수 입력받기\n",
    "v,e = map(int,input().split())\n",
    "parent = [0] * (v+1) #부모 테이블 초기화\n",
    "\n",
    "#부모 테이블상에서, 부모를 자기 자신으로 초기화\n",
    "for i in range(1,v+1):\n",
    "    parent[i] = i\n",
    "    \n",
    "#union 연산을 각각 수행\n",
    "for i in range(e):\n",
    "    a,b = map(int,input().split())\n",
    "    union_parent(parent, a, b)\n",
    "    \n",
    "#각 원소가 속한 집합 출력\n",
    "print('각 원소가 속한 집합 : ',end = \" \")\n",
    "for i in range(1, v+1):\n",
    "    print(find_parent(parent,i), end = \" \")\n",
    "    \n",
    "print()\n",
    "\n",
    "#부모 테이블 내용 출력\n",
    "print(\"부모 테이블 : \", end = \" \")\n",
    "for i in range(1, v+1):\n",
    "    print(parent[i], end = \" \")"
   ]
  },
  {
   "cell_type": "code",
   "execution_count": 7,
   "metadata": {},
   "outputs": [
    {
     "name": "stdout",
     "output_type": "stream",
     "text": [
      "3 3\n",
      "1 2\n",
      "1 3\n",
      "2 3\n",
      "사이클이 발생했습니다.\n"
     ]
    }
   ],
   "source": [
    "#서로수 집합을 활용한 사이클 판별\n",
    " \n",
    "#특정 원소가 속한 집합을 찾기\n",
    "def find_parent(parent,x):\n",
    "    #루트 노드가 아니라면, 루트 노드를 찾을 때까지 재귀적으로 호출\n",
    "    if(parent[x] != x):\n",
    "        parent[x] = find_parent(parent,parent[x])\n",
    "    return parent[x]\n",
    "\n",
    "#두 원소가 속한 집합을 합치기\n",
    "def union_parent(parent,a,b):\n",
    "    a = find_parent(parent,a)\n",
    "    b = find_parent(parent,b)\n",
    "    if(a<b):\n",
    "        parent[b] = a\n",
    "    else:\n",
    "        parent[a] = b\n",
    "        \n",
    "#노드의 개수와 간선(union 연산)의 개수 입력받기\n",
    "v,e = map(int,input().split())\n",
    "parent = [0] * (v+1) #부모 테이블 초기화\n",
    "\n",
    "#부모 테이블상에서, 부모를 자기 자신으로 초기화\n",
    "for i in range(1, v+1):\n",
    "    parent[i] = i\n",
    "    \n",
    "cycle = False #사이클 발생 여부\n",
    "\n",
    "for i in range(e):\n",
    "    a,b = map(int,input().split())\n",
    "    #사이클이 발생한 경우 종료\n",
    "    if(find_parent(parent,a) == find_parent(parent,b)):\n",
    "        cycle = True\n",
    "        break\n",
    "    #사이클이 발생하지 않았다면 합집합(union)수행\n",
    "    else:\n",
    "        union_parent(parent,a,b)\n",
    "        \n",
    "if(cycle):\n",
    "    print(\"사이클이 발생했습니다.\")\n",
    "else:\n",
    "    print(\"사이클이 발생하지 않았습니다.\")"
   ]
  }
 ],
 "metadata": {
  "kernelspec": {
   "display_name": "Python 3",
   "language": "python",
   "name": "python3"
  },
  "language_info": {
   "codemirror_mode": {
    "name": "ipython",
    "version": 3
   },
   "file_extension": ".py",
   "mimetype": "text/x-python",
   "name": "python",
   "nbconvert_exporter": "python",
   "pygments_lexer": "ipython3",
   "version": "3.8.5"
  }
 },
 "nbformat": 4,
 "nbformat_minor": 4
}
