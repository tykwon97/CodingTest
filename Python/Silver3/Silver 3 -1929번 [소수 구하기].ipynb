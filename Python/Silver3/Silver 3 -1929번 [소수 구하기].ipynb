{
 "cells": [
  {
   "cell_type": "code",
   "execution_count": null,
   "metadata": {
    "scrolled": false
   },
   "outputs": [],
   "source": [
    "m,n = map(int,input().split())\n",
    "\n",
    "for i in range(m,n+1):\n",
    "    for j in range(2,i):\n",
    "#         print(i,j)\n",
    "        if(i%j == 0):\n",
    "            break\n",
    "    else:\n",
    "        print(i)\n",
    "1,000,000 000,000"
   ]
  },
  {
   "cell_type": "code",
   "execution_count": null,
   "metadata": {},
   "outputs": [],
   "source": [
    "m,n = map(int,input().split())\n",
    "arr = []\n",
    "\n",
    "for i in range(2,n+1):\n",
    "    for x in arr:\n",
    "        if(i%x == 0):\n",
    "            break\n",
    "    else:\n",
    "        if(i>=m):\n",
    "            print(i)\n",
    "        arr.append(i)"
   ]
  },
  {
   "cell_type": "code",
   "execution_count": null,
   "metadata": {
    "scrolled": false
   },
   "outputs": [],
   "source": [
    "#에라토스테네스의 체 구현\n",
    "m,n = map(int,input().split())\n",
    "arr = [(i) for i in range(m,n+1)]\n",
    "\n",
    "while(arr):\n",
    "    num = arr[0]\n",
    "    for j in range(2,num):\n",
    "        if(num%j == 0):\n",
    "            break\n",
    "    else: #소수인경우\n",
    "        print(num)\n",
    "        \n",
    "    count = 1\n",
    "    while((count*num)<=n):\n",
    "        if(count*num in arr):\n",
    "            arr.remove(count*num)\n",
    "        count += 1\n",
    "            \n",
    "        "
   ]
  },
  {
   "cell_type": "code",
   "execution_count": 22,
   "metadata": {},
   "outputs": [
    {
     "name": "stdout",
     "output_type": "stream",
     "text": [
      "3 16\n",
      "3\n",
      "5\n",
      "7\n",
      "11\n",
      "13\n"
     ]
    }
   ],
   "source": [
    "#에라토스테네스의 체 구현\n",
    "import sys\n",
    "input = sys.stdin.readline\n",
    "m,n = map(int,input().split())\n",
    "arr = [ False for i in range(n+1)]\n",
    "arr[0] = True\n",
    "arr[1] = True\n",
    "\n",
    "for i in range(n+1):\n",
    "    if(arr[i] == False): #아직 체크 못한 경우\n",
    "        if(i>=m):\n",
    "            print(i)\n",
    "        for k in range(i,n+1,i):\n",
    "            arr[k] = True\n",
    "    else:\n",
    "        continue"
   ]
  },
  {
   "cell_type": "code",
   "execution_count": null,
   "metadata": {},
   "outputs": [],
   "source": []
  }
 ],
 "metadata": {
  "kernelspec": {
   "display_name": "Python 3",
   "language": "python",
   "name": "python3"
  },
  "language_info": {
   "codemirror_mode": {
    "name": "ipython",
    "version": 3
   },
   "file_extension": ".py",
   "mimetype": "text/x-python",
   "name": "python",
   "nbconvert_exporter": "python",
   "pygments_lexer": "ipython3",
   "version": "3.8.5"
  }
 },
 "nbformat": 4,
 "nbformat_minor": 4
}
