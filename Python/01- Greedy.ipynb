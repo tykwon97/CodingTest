{
 "cells": [
  {
   "cell_type": "code",
   "execution_count": 6,
   "metadata": {},
   "outputs": [
    {
     "name": "stdout",
     "output_type": "stream",
     "text": [
      "거스름돈 : 1260\n",
      "500원 :  2\n",
      "100원 :  2\n",
      "50원 :  1\n",
      "10원 :  1\n",
      "총 개수 :  6\n"
     ]
    }
   ],
   "source": [
    "# 3-1 거스름돈\n",
    "\n",
    "N = int(input(\"거스름돈 : \"))\n",
    "Count = 0\n",
    "\n",
    "change_500 = int(N/500)\n",
    "change_100 = int(N%500/100)\n",
    "change_50 = int(N%500%100/50)\n",
    "change_10 = int(N%500%100%50/10)\n",
    "\n",
    "print(\"500원 : \",change_500)\n",
    "print(\"100원 : \",change_100)\n",
    "print(\"50원 : \",change_50)\n",
    "print(\"10원 : \",change_10)\n",
    "print(\"총 개수 : \",change_500+change_100+change_50+change_10)"
   ]
  },
  {
   "cell_type": "code",
   "execution_count": 5,
   "metadata": {},
   "outputs": [
    {
     "name": "stdout",
     "output_type": "stream",
     "text": [
      "거스름돈 : 1260\n",
      "6\n"
     ]
    }
   ],
   "source": [
    "# 3-1 거스름돈(정답)\n",
    "\n",
    "N = int(input(\"거스름돈 : \"))\n",
    "Count = 0\n",
    "\n",
    "CoinTypes = [500,100,50,10]\n",
    "\n",
    "for Coin in CoinTypes :\n",
    "    Count += N // Coin #해당 화폐로 거슬러 줄 수 있는 동전의 개수 세기\n",
    "    N %= Coin\n",
    "    \n",
    "print(Count)"
   ]
  },
  {
   "cell_type": "code",
   "execution_count": 14,
   "metadata": {},
   "outputs": [
    {
     "name": "stdout",
     "output_type": "stream",
     "text": [
      "5 9 3\n",
      "2 4 5 4 6\n",
      "52\n"
     ]
    }
   ],
   "source": [
    "#3-2 큰 수의 법칙\n",
    "\n",
    "n,m,k = map(int,input().split())\n",
    "num_list = list(map(int, input().split()))\n",
    "\n",
    "max_first = max(num_list)\n",
    "num_list.remove(max_first)\n",
    "\n",
    "max_second = max(num_list) \n",
    "\n",
    "print(max_first * (m - (m//(k+1))) + max_second * (m//(k+1)))"
   ]
  },
  {
   "cell_type": "code",
   "execution_count": 10,
   "metadata": {},
   "outputs": [
    {
     "name": "stdout",
     "output_type": "stream",
     "text": [
      "5 9 3\n",
      "2 4 5 4 6\n",
      "52\n"
     ]
    }
   ],
   "source": [
    "#3-2 큰 수의 법칙(정답1)\n",
    "# N,M,K를 공백으로 구분하여 입력받기\n",
    "n,m,k = map(int, input().split())\n",
    "\n",
    "# N 개의 수를 공백으로 구분하여 입력받기\n",
    "data = list(map(int,input().split()))\n",
    "\n",
    "data.sort() #입력받은 수를 정렬하기\n",
    "first = data[n-1] #가장 큰 수\n",
    "second = data[n-2] #두 번째로 큰 수\n",
    "\n",
    "result = 0\n",
    "\n",
    "while True:\n",
    "    for i in range(k) : #가장 큰 수를 k번 더하기\n",
    "        if(m == 0): # m이 0이라면 반복문 탈출\n",
    "            break\n",
    "        result += first\n",
    "        m -= 1 # 더할 때마다 1씩 빼기\n",
    "    if(m ==0): #m이 0이라면 반복문 탈출\n",
    "        break\n",
    "    result += second # 두 번째로 큰 수를 한 번 더하기\n",
    "    m -= 1 # 더할 때마다 1씩 빼기\n",
    "    \n",
    "print(result)"
   ]
  },
  {
   "cell_type": "code",
   "execution_count": 8,
   "metadata": {},
   "outputs": [
    {
     "name": "stdout",
     "output_type": "stream",
     "text": [
      "5 8 3\n",
      "2 4 5 4 6\n",
      "46\n"
     ]
    }
   ],
   "source": [
    "#3-2 큰 수의 법칙(정답2)\n",
    "# N,M,K를 공백으로 구분하여 입력받기\n",
    "n,m,k = map(int, input().split())\n",
    "\n",
    "# N 개의 수를 공백으로 구분하여 입력받기\n",
    "data = list(map(int,input().split()))\n",
    "\n",
    "data.sort() #입력받은 수를 정렬하기\n",
    "first = data[n-1] #가장 큰 수\n",
    "second = data[n-2] #두 번째로 큰 수\n",
    "\n",
    "#가장 큰 수가 더해지는 횟수 계산\n",
    "count = int(m/(k+1))*k\n",
    "count += m%(k+1)\n",
    "\n",
    "result = 0\n",
    "result += (count) * first # 가장 큰 수 더하기\n",
    "result += (m-count)*second #두 번째로 큰 수 더하기\n",
    "    \n",
    "print(result)"
   ]
  }
 ],
 "metadata": {
  "kernelspec": {
   "display_name": "Python 3",
   "language": "python",
   "name": "python3"
  },
  "language_info": {
   "codemirror_mode": {
    "name": "ipython",
    "version": 3
   },
   "file_extension": ".py",
   "mimetype": "text/x-python",
   "name": "python",
   "nbconvert_exporter": "python",
   "pygments_lexer": "ipython3",
   "version": "3.8.5"
  }
 },
 "nbformat": 4,
 "nbformat_minor": 4
}
