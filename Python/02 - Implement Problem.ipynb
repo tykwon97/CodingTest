{
 "cells": [
  {
   "cell_type": "code",
   "execution_count": 44,
   "metadata": {},
   "outputs": [
    {
     "name": "stdout",
     "output_type": "stream",
     "text": [
      "c2\n",
      "6\n"
     ]
    }
   ],
   "source": [
    "# 4-2 왕실의 나이트\n",
    "input_list = list(input())\n",
    "a = input_list[0] \n",
    "a = ord(a) - ord(\"a\") + 1\n",
    "\n",
    "b = int(input_list[1])\n",
    "\n",
    "count = 0\n",
    "  \n",
    "x = [-2, -2, +2, +2, -1, -1, +1, +1]\n",
    "y = [-1, +1, -1, +1, -2, +2, -2, +2]\n",
    "\n",
    "for i in range(8):\n",
    "    if( 0< (a+x[i]) <9 and 0< (b+y[i]) <9 ):\n",
    "        count += 1\n",
    "\n",
    "print(count)"
   ]
  },
  {
   "cell_type": "code",
   "execution_count": 45,
   "metadata": {},
   "outputs": [
    {
     "name": "stdout",
     "output_type": "stream",
     "text": [
      "c2\n",
      "6\n"
     ]
    }
   ],
   "source": [
    "# 4-2 왕실의 나이트(답안)\n",
    "#현재 나이트의 위치 입력받기\n",
    "\n",
    "input_data = input()\n",
    "row = int(input_data[1])\n",
    "column = int(ord(input_data[0])) - int(ord('a')) + 1\n",
    "\n",
    "#나이트가 이동할 수 있는 8가지 방향 정의\n",
    "steps = [(-2,-1), (-1,-2), (1,-2), (2,-1), (2,1), (1,2), (-1,2), (-2,1)]\n",
    "\n",
    "#8가지 방향에 대하여 각 위치로 디오이 가능한지 확인\n",
    "result = 0\n",
    "for step in steps:\n",
    "    #이동하고자 하는 위치 확인\n",
    "    next_row = row + step[0]\n",
    "    next_column = column + step[1]\n",
    "    #해당 위치로 이동이 가능하다면 카운트 증가\n",
    "    if next_row >= 1 and next_row <= 8 and next_column >= 1 and next_column <= 8 :\n",
    "        result += 1\n",
    "        \n",
    "print(result)"
   ]
  },
  {
   "cell_type": "code",
   "execution_count": 68,
   "metadata": {},
   "outputs": [
    {
     "name": "stdout",
     "output_type": "stream",
     "text": [
      "4 4\n",
      "1 1 0\n",
      "1 1 1 1 \n",
      "1 0 0 1\n",
      "1 1 0 1\n",
      "1 1 1 1\n",
      "3\n"
     ]
    }
   ],
   "source": [
    "### 4-3 게임개발\n",
    "n,m = map(int,input().split())\n",
    "x,y,direction = map(int,input().split())\n",
    "\n",
    "count = 1\n",
    "map_list = []\n",
    "\n",
    "direction_list = [(0,-1), (-1,0), (0,1), (1,0)]\n",
    "\n",
    "for _ in range(n):\n",
    "    map_list.append(list(map(int, input().split())))\n",
    "\n",
    "dir_count = 0 \n",
    "while(True):\n",
    "    dx = direction_list[direction][0]\n",
    "    dy = direction_list[direction][1]\n",
    "    \n",
    "    dir_count += 1\n",
    "    if(dir_count == 4): # 네번 회전한 이후에도 갈곳이 없으면 종료\n",
    "        break\n",
    "        \n",
    "    if(0 <= x + dx < n and 0<= y + dy < m):\n",
    "        if(map_list[x + dx][y + dy] == 0):#바다가 아니면\n",
    "            map_list[x][y] = 1 #이미 방문한 곳은 바다로 만들기(다시 방문x)\n",
    "            x = x + dx\n",
    "            y = y + dy\n",
    "            count += 1\n",
    "            dir_count = 0\n",
    "        \n",
    "        direction = (direction + 3) % 4\n",
    "    else :\n",
    "        break\n",
    "    \n",
    "print(count)"
   ]
  },
  {
   "cell_type": "code",
   "execution_count": 75,
   "metadata": {},
   "outputs": [
    {
     "name": "stdout",
     "output_type": "stream",
     "text": [
      "4 4\n",
      "1 1 0\n",
      "1 1 1 1\n",
      "1 0 0 1\n",
      "1 1 0 1\n",
      "1 1 1 1\n",
      " x :  1  y :  1\n",
      " x :  1  y :  1\n",
      " x :  1  y :  1\n",
      " x :  1  y :  2\n",
      " x :  1  y :  2\n",
      " x :  1  y :  2\n",
      " x :  2  y :  2\n",
      " x :  2  y :  2\n",
      " x :  2  y :  2\n",
      " x :  2  y :  2\n",
      " x :  1  y :  2\n",
      " x :  1  y :  2\n",
      " x :  1  y :  2\n",
      " x :  1  y :  2\n",
      "3\n"
     ]
    }
   ],
   "source": [
    "# 4-3 게임개발(답안) \n",
    "# N,M 을 공백으로 구분하여 입력하기\n",
    "n,m = map(int,input().split())\n",
    "\n",
    "# 방문한 위치를 저장하기 위한 맵을 생성하여 0으로 초기화\n",
    "d = [[0] * m for _ in range(n)]\n",
    "# 현재 캐릭터의 X좌표, Y좌표, 방향을 입력받기\n",
    "x,y, direction = map(int,input().split())\n",
    "d[x][y] = 1 # 현재 좌표 방문 처리\n",
    "\n",
    "# 전체 맵 정보를 입력받기\n",
    "array = []\n",
    "for i in range(n):\n",
    "    array.append(list(map(int,input().split())))\n",
    "    \n",
    "# 북, 동, 남, 서 방향 정의\n",
    "dx = [-1,0,1,0]\n",
    "dy = [0,1,0,-1]\n",
    "\n",
    "#왼쪽으로 회전\n",
    "def turn_left():\n",
    "    global direction\n",
    "    direction -= 1\n",
    "    if direction == -1 :\n",
    "        direction = 3\n",
    "        \n",
    "# 시물레이션 시작\n",
    "count = 1\n",
    "turn_time = 0\n",
    "while True :\n",
    "    # 왼쪽으로 회전\n",
    "    turn_left()\n",
    "    nx = x + dx[direction]\n",
    "    ny = y + dy[direction]\n",
    "    # 회전한 이후 정면에 가보지 않은 칸이 존재하는 경우 이동\n",
    "    if d[nx][ny] == 0 and array[nx][ny] == 0 :\n",
    "        d[nx][ny] = 1\n",
    "        x = nx\n",
    "        y = ny\n",
    "        count += 1\n",
    "        turn_time = 0\n",
    "        continue\n",
    "    # 회전한 이후 정면에 가보지 않은 칸이 없거나 바다인 경우\n",
    "    else :\n",
    "        turn_time += 1\n",
    "    # 네 방향 모두 갈 수 없는 경우\n",
    "    if turn_time == 4:\n",
    "        nx = x - dx[direction]\n",
    "        ny = y - dy[direction]\n",
    "        # 뒤로 갈 수 있다면 이동하기\n",
    "        if array[nx][ny] == 0:\n",
    "            x = nx\n",
    "            y = ny\n",
    "        # 뒤가 바다로 막혀있는 경우\n",
    "        else:\n",
    "            break\n",
    "        turn_time = 0\n",
    "        \n",
    "# 정답 출력\n",
    "print(count)"
   ]
  },
  {
   "cell_type": "code",
   "execution_count": null,
   "metadata": {},
   "outputs": [],
   "source": []
  }
 ],
 "metadata": {
  "kernelspec": {
   "display_name": "Python 3",
   "language": "python",
   "name": "python3"
  },
  "language_info": {
   "codemirror_mode": {
    "name": "ipython",
    "version": 3
   },
   "file_extension": ".py",
   "mimetype": "text/x-python",
   "name": "python",
   "nbconvert_exporter": "python",
   "pygments_lexer": "ipython3",
   "version": "3.8.5"
  }
 },
 "nbformat": 4,
 "nbformat_minor": 4
}
