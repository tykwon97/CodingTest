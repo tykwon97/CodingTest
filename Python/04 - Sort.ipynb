{
 "cells": [
  {
   "cell_type": "code",
   "execution_count": 4,
   "metadata": {},
   "outputs": [
    {
     "name": "stdout",
     "output_type": "stream",
     "text": [
      "[0, 1, 2, 3, 4, 5, 6, 7, 8, 9]\n"
     ]
    }
   ],
   "source": [
    "# 선택 정렬 예시\n",
    "array = [7,5,9,0,3,1,6,2,4,8]\n",
    "\n",
    "for i in range(len(array)):\n",
    "    min_index = i #가장 작은 원소의 index\n",
    "    for j in range(i+1,len(array)):\n",
    "        if(array[min_index]>array[j]):\n",
    "            min_index = j\n",
    "    \n",
    "    # 파이썬 스와프(Swap) 사용\n",
    "    array[i], array[min_index] = array[min_index],array[i]\n",
    "    \n",
    "    '''\n",
    "    #아래와 같이 파이썬에서는 temp사용할 필요 없음\n",
    "    temp = array[i]\n",
    "    array[i] = array[min_index]\n",
    "    array[min_index] = temp\n",
    "    '''\n",
    "    \n",
    "print(array)"
   ]
  },
  {
   "cell_type": "code",
   "execution_count": 2,
   "metadata": {},
   "outputs": [
    {
     "name": "stdout",
     "output_type": "stream",
     "text": [
      "[0, 1, 2, 3, 4, 5, 6, 7, 8, 9]\n"
     ]
    }
   ],
   "source": [
    "# 삽입 정렬 예시\n",
    "array = [7,5,9,0,3,1,6,2,4,8]\n",
    "\n",
    "for i in range(1,len(array)):\n",
    "    for j in range(i,0,-1): #인덱스 i부터 1까지 감소하며 반복하는 문법\n",
    "        if (array[j] < array[j-1]):\n",
    "            array[j], array[j-1] = array[j-1],array[j]\n",
    "        else: #자기보다 작은 데이터를 만나면 그 위치에서 멈춤\n",
    "            break\n",
    "            \n",
    "print(array)"
   ]
  },
  {
   "cell_type": "code",
   "execution_count": 5,
   "metadata": {},
   "outputs": [
    {
     "name": "stdout",
     "output_type": "stream",
     "text": [
      "[0, 1, 2, 3, 4, 5, 6, 7, 8, 9]\n"
     ]
    }
   ],
   "source": [
    "# 퀵 정렬 예시\n",
    "array = [7,5,9,0,3,1,6,2,4,8]\n",
    "\n",
    "def quick_sort(array,start,end):\n",
    "    if(start >= end ): #원소가 1개인 경우 종료\n",
    "        return\n",
    "    pivot = start #피벗은 첫 번째 원소\n",
    "    left = start + 1\n",
    "    right = end\n",
    "    while (left <= right):\n",
    "        #피벗보다 큰 데이터를 찾을 때까지 반복\n",
    "        while (left <= end and array[left] <= array[pivot]):\n",
    "            left += 1\n",
    "        #피벗보다 작은 데이터를 찾을 때까지 반복\n",
    "        while (right > start and array[right] >= array[pivot]):\n",
    "            right -= 1\n",
    "        if(left > right): #엇갈렸다면 작은 데이터와 피벗을 교체\n",
    "            array[right],array[pivot] = array[pivot],array[right]\n",
    "        else : #엇갈리지 않았다면 작은 데이터와 큰 데이터를 교체\n",
    "            array[left],array[right] = array[right],array[left]\n",
    "    #분할 이후 왼쪽 부분과 오른쪽 부분에서 각각 정렬 수행\n",
    "    quick_sort(array,start,right-1)\n",
    "    quick_sort(array,right+1,end)\n",
    "    \n",
    "quick_sort(array,0,len(array)-1)\n",
    "print(array)"
   ]
  },
  {
   "cell_type": "code",
   "execution_count": 1,
   "metadata": {},
   "outputs": [
    {
     "name": "stdout",
     "output_type": "stream",
     "text": [
      "[0, 1, 2, 3, 4, 5, 6, 7, 8, 9]\n"
     ]
    }
   ],
   "source": [
    "# 파이썬의 장점을 살린 퀵 정렬 예시\n",
    "array = [7,5,9,0,3,1,6,2,4,8]\n",
    "\n",
    "def quick_sort(array):\n",
    "    #리스트가 하나 이하의 원소만을 담고 있다면 종료\n",
    "    if(len(array) <= 1):\n",
    "        return array\n",
    "    \n",
    "    pivot = array[0] #피벗은 첫 번째 원소\n",
    "    tail = array[1:] #피벗을 제외한 리스트\n",
    "    \n",
    "    left_side = [x for x in tail if x <= pivot] #분할된 왼쪽 부분\n",
    "    right_side = [x for x in tail if x > pivot] #분할된 오른쪽 부분\n",
    "    \n",
    "    #분할 이후 왼쪽 부분과 오른쪽 부분에서 각각 정렬을 수행하고, 전체 리스트를 반환\n",
    "    return quick_sort(left_side) + [pivot] + quick_sort(right_side)\n",
    "\n",
    "print(quick_sort(array))"
   ]
  },
  {
   "cell_type": "code",
   "execution_count": 6,
   "metadata": {},
   "outputs": [
    {
     "name": "stdout",
     "output_type": "stream",
     "text": [
      "0 1 2 3 4 5 6 7 8 9 "
     ]
    }
   ],
   "source": [
    "# 계수 정렬 예시\n",
    "#모든 원소의 값이 0보다 크거나 같다고 가정\n",
    "array = [7,5,9,0,3,1,6,2,4,8]\n",
    "#모든 범위를 포함하는 리스트 선언(모든 값은 0으로 초기화)\n",
    "count = [0] * (max(array)+1)\n",
    "\n",
    "for i in range(len(array)):\n",
    "    count[array[i]] += 1 #각 데이터에 해당하는 인덱스의 값 증가\n",
    "\n",
    "for i in range(len(count)): #리스트에 기록된 정렬 정보 확인\n",
    "    for j in range(count[i]): \n",
    "        print(i,end = ' ') #띄어쓰기를 구분으로 등장한 횟수만큼 인덱스 출력"
   ]
  },
  {
   "cell_type": "code",
   "execution_count": 9,
   "metadata": {},
   "outputs": [
    {
     "name": "stdout",
     "output_type": "stream",
     "text": [
      "[0, 1, 2, 3, 4, 5, 6, 7, 8, 9]\n",
      "[7, 5, 9, 0, 3, 1, 6, 2, 4, 8]\n",
      "\n",
      "[0, 1, 2, 3, 4, 5, 6, 7, 8, 9]\n"
     ]
    }
   ],
   "source": [
    "array = [7,5,9,0,3,1,6,2,4,8]\n",
    "\n",
    "# sorted -> 리스트, 딕셔너리 자료형 등을 입력받아서 정렬된 결과를 출력\n",
    "# sort -> 내부 원소를 바로 정렬\n",
    "\n",
    "# sorted 소스코드\n",
    "result = sorted(array)\n",
    "print(result)\n",
    "print(array)\n",
    "\n",
    "print()\n",
    "\n",
    "# sort 소스코드\n",
    "array.sort()\n",
    "print(array)"
   ]
  },
  {
   "cell_type": "code",
   "execution_count": 4,
   "metadata": {},
   "outputs": [
    {
     "name": "stdout",
     "output_type": "stream",
     "text": [
      "[('바나나', 2), ('당근', 3), ('사과', 5)]\n"
     ]
    }
   ],
   "source": [
    "# 정렬 라이브러리에서 key를 활용한 소스코드\n",
    "array = [('바나나',2),('사과',5),('당근',3)]\n",
    "\n",
    "def setting(data):\n",
    "    return data[1]\n",
    "\n",
    "result = sorted(array, key=setting)\n",
    "print(result)"
   ]
  },
  {
   "cell_type": "code",
   "execution_count": 16,
   "metadata": {},
   "outputs": [
    {
     "name": "stdout",
     "output_type": "stream",
     "text": [
      "3\n",
      "15\n",
      "27\n",
      "12\n",
      "27 15 12 "
     ]
    }
   ],
   "source": [
    "#6-2 위에서 아래로\n",
    "\n",
    "n = int(input())\n",
    "input_array = []\n",
    "\n",
    "for _ in range(n):\n",
    "    input_array.append(int(input()))\n",
    "\n",
    "    \n",
    "input_array.sort()\n",
    "\n",
    "input_array.reverse()\n",
    "\n",
    "for x in input_array :\n",
    "    print(x,end=\" \")"
   ]
  },
  {
   "cell_type": "code",
   "execution_count": 14,
   "metadata": {},
   "outputs": [
    {
     "name": "stdout",
     "output_type": "stream",
     "text": [
      "3\n",
      "15\n",
      "27\n",
      "12\n",
      "27 15 12 "
     ]
    }
   ],
   "source": [
    "#6-2 위에서 아래로(답안)\n",
    "\n",
    "#N을 입력받기\n",
    "n = int(input())\n",
    "\n",
    "#N개의 정수를 입력받아 리스트에 저장\n",
    "array = []\n",
    "for i in range(n):\n",
    "    array.append(int(input()))\n",
    "\n",
    "#파이썬 기본 정렬 라이브러리를 이용하여 정렬 수행\n",
    "array = sorted(array, reverse = True)\n",
    "\n",
    "#정렬이 수행된 결과를 출력\n",
    "for i in array:\n",
    "    print(i,end=\" \")"
   ]
  },
  {
   "cell_type": "code",
   "execution_count": 20,
   "metadata": {},
   "outputs": [
    {
     "name": "stdout",
     "output_type": "stream",
     "text": [
      "2\n",
      "홍길동 95\n",
      "이순신 77\n",
      "이순신 홍길동 "
     ]
    }
   ],
   "source": [
    "#6-3 성적이 낮은 순서로 학생 출력하기\n",
    "n = int(input())\n",
    "\n",
    "array = []\n",
    "\n",
    "def setting(data):\n",
    "    return data[1]\n",
    "\n",
    "for _ in range(n):\n",
    "    name, score = input().split()\n",
    "    array.append([name,int(score)])\n",
    "    \n",
    "sorted_array = sorted(array, key=setting)\n",
    "\n",
    "for x,y in sorted_array:\n",
    "    print(x, end=\" \")"
   ]
  },
  {
   "cell_type": "code",
   "execution_count": 31,
   "metadata": {},
   "outputs": [
    {
     "name": "stdout",
     "output_type": "stream",
     "text": [
      "3\n",
      "홍길동 45\n",
      "권태윤 199\n",
      "이순신 83\n",
      "홍길동 이순신 권태윤 "
     ]
    }
   ],
   "source": [
    "# 6-3 성적이 낮은 순서로 학생 출력하기(답안)\n",
    "#N을 입력받기\n",
    "n = int(input())\n",
    "\n",
    "#N명의 학생 정보를 입력받아 리스트에 저장\n",
    "array = []\n",
    "for i in range(n):\n",
    "    input_data = input().split()\n",
    "    #이름은 문자열 그대로, 점수는 정수형으로 변환하여 저장\n",
    "    array.append((input_data[0], int(input_data[1])))\n",
    "    \n",
    "#키를 이용하여, 점수를 기준으로 정렬\n",
    "array = sorted(array, key=lambda student:student[1])\n",
    "\n",
    "#정렬이 수행된 결과를 출력\n",
    "for student in array:\n",
    "    print(student[0], end = \" \")"
   ]
  },
  {
   "cell_type": "code",
   "execution_count": 41,
   "metadata": {},
   "outputs": [
    {
     "name": "stdout",
     "output_type": "stream",
     "text": [
      "5 3 \n",
      "1 2 5 4 3\n",
      "5 5 6 6 5\n",
      "26\n"
     ]
    }
   ],
   "source": [
    "#6-4 두 배열의 원소 교체\n",
    "n,m = map(int,input().split())\n",
    "\n",
    "list_a = list(map(int,input().split()))\n",
    "list_b = list(map(int,input().split()))\n",
    "\n",
    "for _ in range(m):\n",
    "    min_a = 1\n",
    "    max_b = 1\n",
    "    for i in range(n):\n",
    "        if(list_a[i] < list_a[min_a]):\n",
    "            min_a = i\n",
    "        if(list_b[i] > list_b[max_b]):\n",
    "            max_b = i\n",
    "    if(list_a[min_a] < list_b[max_b]): # 이부분을 생각 못함!!\n",
    "        list_a[min_a],list_b[max_b] = list_b[max_b],list_a[min_a]\n",
    "        \n",
    "result = 0\n",
    "\n",
    "for x in list_a:\n",
    "    result += x\n",
    "        \n",
    "print(result)"
   ]
  },
  {
   "cell_type": "code",
   "execution_count": 43,
   "metadata": {},
   "outputs": [
    {
     "name": "stdout",
     "output_type": "stream",
     "text": [
      "5 3\n",
      "1 2 5 4 3\n",
      "5 5 6 6 5\n",
      "26\n"
     ]
    }
   ],
   "source": [
    "#6-4 두 배열의 원소 교체(답안)\n",
    "n, k  = map(int,input().split()) # N과 k를 입력받기\n",
    "a = list(map(int,input().split()))\n",
    "b = list(map(int,input().split()))\n",
    "\n",
    "a.sort() #배열 A는 오름차순 정렬 수행\n",
    "b.sort(reverse=True) #배열 B는 내림차순 정렬 수행\n",
    "\n",
    "#첫 번째 인덱스부터 확인하며, 두 배열의 원소를 최대 k번 비교\n",
    "for i in range(k):\n",
    "    #A의 원소가 B의 원소보다 작은 경우\n",
    "    if(a[i] < b[i]):\n",
    "        #두 원소를 교체\n",
    "        a[i],b[i] = b[i],a[i]\n",
    "    else: #A의 원소가 b의 원소보다 크거나 같을 때, 반복문을 탈출\n",
    "        break\n",
    "        \n",
    "print(sum(a)) #배열 A의 모든 원소의 합을 출력"
   ]
  }
 ],
 "metadata": {
  "kernelspec": {
   "display_name": "Python 3",
   "language": "python",
   "name": "python3"
  },
  "language_info": {
   "codemirror_mode": {
    "name": "ipython",
    "version": 3
   },
   "file_extension": ".py",
   "mimetype": "text/x-python",
   "name": "python",
   "nbconvert_exporter": "python",
   "pygments_lexer": "ipython3",
   "version": "3.8.5"
  }
 },
 "nbformat": 4,
 "nbformat_minor": 4
}
