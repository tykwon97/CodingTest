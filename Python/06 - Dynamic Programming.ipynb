{
 "cells": [
  {
   "cell_type": "markdown",
   "metadata": {},
   "source": [
    "# Dynamic Programming\n",
    "다음 조건을 만족할 때 사용할 수 있다.  \n",
    "1. 큰 문제를 작은 문제로 나눌 수 있다.  \n",
    "2. 작은 문제에서 구한 정답은 그것을 포함하는 큰 문제에서도 동일하다."
   ]
  },
  {
   "cell_type": "code",
   "execution_count": 1,
   "metadata": {},
   "outputs": [
    {
     "name": "stdout",
     "output_type": "stream",
     "text": [
      "3\n"
     ]
    }
   ],
   "source": [
    "#피보나치 함수 (재귀함수)\n",
    "def fibo(x):\n",
    "    if(x == 1 or x == 2):\n",
    "        return 1\n",
    "    return fibo(x-1) + fibo(x-2)\n",
    "\n",
    "print(fibo(4))"
   ]
  },
  {
   "cell_type": "code",
   "execution_count": 2,
   "metadata": {},
   "outputs": [
    {
     "name": "stdout",
     "output_type": "stream",
     "text": [
      "218922995834555169026\n"
     ]
    }
   ],
   "source": [
    "#피보나치 함수 (재귀함수 - 다이나믹프로그래맹)\n",
    "\n",
    "#한 번 계산된 결과를 메모리제이션하기 위한 리스트 초기화\n",
    "d = [0]*100\n",
    "\n",
    "#피보나치 함수를 재귀함수로 구현(탑다운 다이나믹 프로그래밍)\n",
    "def fibo(x):\n",
    "    #종료 조건 (1 혹은 2일 때 1을 반환)\n",
    "    if(x == 1 or x == 2):\n",
    "        return 1\n",
    "    #이미 계산한 적 있는 문제라면 그대로 반환\n",
    "    if(d[x] != 0):\n",
    "        return d[x]\n",
    "    #아직 계산하지 않은 문제라면 점화식에 따라서 피보나치 결과 반환\n",
    "    d[x] = fibo(x-1) + fibo(x-2)\n",
    "    return d[x]\n",
    "\n",
    "print(fibo(99))"
   ]
  },
  {
   "cell_type": "code",
   "execution_count": 3,
   "metadata": {},
   "outputs": [
    {
     "name": "stdout",
     "output_type": "stream",
     "text": [
      "f(6) f(5) f(4) f(3) f(2) f(1) f(2) f(3) f(4) "
     ]
    },
    {
     "data": {
      "text/plain": [
       "8"
      ]
     },
     "execution_count": 3,
     "metadata": {},
     "output_type": "execute_result"
    }
   ],
   "source": [
    "#피보나치 함수 (호출되는 함수 확인)\n",
    "d = [0]*100\n",
    "\n",
    "def fibo(x):\n",
    "    print('f('+str(x)+')',end=' ')\n",
    "    if(x == 1 or x == 2):\n",
    "        return 1\n",
    "    if(d[x] != 0):\n",
    "        return d[x]\n",
    "    d[x] = fibo(x-1) + fibo(x-2)\n",
    "    return d[x]\n",
    "\n",
    "fibo(6)"
   ]
  },
  {
   "cell_type": "code",
   "execution_count": 4,
   "metadata": {},
   "outputs": [
    {
     "name": "stdout",
     "output_type": "stream",
     "text": [
      "218922995834555169026\n"
     ]
    }
   ],
   "source": [
    "#피보나치 함수 (반복적)\n",
    "#앞서 계산된 결과를 저장하기 위한 DP 테이블 초기화\n",
    "d = [0]*100\n",
    "\n",
    "#첫 번째 피보나치 수와 두 번재 피보나치 수는 1\n",
    "d[1] = 1\n",
    "d[2] = 1\n",
    "n = 99\n",
    "\n",
    "#피보나치 함수 반복문으로 구현(보텀업 다이나믹 프로그래밍)\n",
    "for i in range(3,n+1):\n",
    "    d[i] = d[i-1] + d[i-2]\n",
    "    \n",
    "print(d[n])"
   ]
  },
  {
   "cell_type": "code",
   "execution_count": 11,
   "metadata": {},
   "outputs": [
    {
     "name": "stdout",
     "output_type": "stream",
     "text": [
      "6\n",
      "2\n"
     ]
    }
   ],
   "source": [
    "#8-2 1로 만들기\n",
    "\n",
    "x = int(input())\n",
    "count = 0\n",
    "\n",
    "while(x != 1):\n",
    "    if(x%5 == 0):\n",
    "        x //= 5\n",
    "        count += 1\n",
    "        continue\n",
    "    if(x%3 == 0):\n",
    "        x //= 3\n",
    "        count += 1\n",
    "        continue\n",
    "        \n",
    "    if(x%2 == 0 and x<5):\n",
    "        x //= 2\n",
    "    else:\n",
    "        x -= 1\n",
    "    count += 1\n",
    "    \n",
    "print(count)"
   ]
  },
  {
   "cell_type": "code",
   "execution_count": 13,
   "metadata": {},
   "outputs": [
    {
     "name": "stdout",
     "output_type": "stream",
     "text": [
      "26\n",
      "3\n"
     ]
    }
   ],
   "source": [
    "#8-2 1로 만들기(정답)\n",
    "# 정수 X를 입력받기\n",
    "x = int(input())\n",
    "\n",
    "#앞서 계산된 결과를 저장하기 위한 DP 테이블 초기화\n",
    "d = [0]*30001\n",
    "\n",
    "#다이나믹 프로그래밍 진행(보텀업)\n",
    "for i in range(2,x+1):\n",
    "    #현재의 수에서 1을 빼는 경우\n",
    "    d[i] = d[i-1] + 1\n",
    "    #현재의 수가 2로 나누어 떨어지는 경우\n",
    "    if(i%2 == 0):\n",
    "        d[i] = min(d[i],d[i//2]+1)\n",
    "    #현재의 수가 3으로 나누어 떨어지는 경우\n",
    "    if(i%3 == 0):\n",
    "        d[i] = min(d[i],d[i//3]+1)\n",
    "    #현재의 수가 5으로 나누어 떨어지는 경우\n",
    "    if(i%5 == 0):\n",
    "        d[i] = min(d[i],d[i//5]+1)\n",
    "        \n",
    "print(d[x])"
   ]
  },
  {
   "cell_type": "code",
   "execution_count": 15,
   "metadata": {},
   "outputs": [
    {
     "name": "stdout",
     "output_type": "stream",
     "text": [
      "5\n",
      "1 3 1 1 5\n",
      "8\n"
     ]
    }
   ],
   "source": [
    "#8-3개미 전사 (답안 - 직접 못 품)\n",
    "\n",
    "#정수 N을 입력받기\n",
    "n = int(input())\n",
    "\n",
    "#모든 식량 정보 입력받기\n",
    "array = list(map(int,input().split()))\n",
    "\n",
    "#앞서 계산된 결과를 저장하기 위한 DP 테이블 초기화\n",
    "d = [0] * 100\n",
    "\n",
    "#다이나믹 프로그래밍 진행(보텀업)\n",
    "d[0] = array[0]\n",
    "d[1] = max(array[0], array[1])\n",
    "for i in range(2, n):\n",
    "    d[i] = max(d[i-1],d[i-2]+array[i])\n",
    "    \n",
    "#계산된 결과 출력\n",
    "print(d[n-1])"
   ]
  },
  {
   "cell_type": "code",
   "execution_count": 16,
   "metadata": {},
   "outputs": [
    {
     "name": "stdout",
     "output_type": "stream",
     "text": [
      "3\n",
      "5\n"
     ]
    }
   ],
   "source": [
    "#8-4 바닥 공사 (답안 - 직접 못 품)\n",
    "#정수 N을 입력받기\n",
    "n = int(input())\n",
    "\n",
    "#앞서 계산된 결과를 저장하기 위한 DP 테이블 초기화\n",
    "d = [0] * 1001\n",
    "\n",
    "#다이나믹 프로그래밍 진행(보텀업)\n",
    "d[1] = 1\n",
    "d[2] = 3\n",
    "for i in range(3, n+1):\n",
    "    d[i] = (d[i-1] + 2 * d[i-2])\n",
    "    \n",
    "#계산된 결과 출력\n",
    "print(d[n])"
   ]
  },
  {
   "cell_type": "code",
   "execution_count": null,
   "metadata": {},
   "outputs": [],
   "source": [
    "#8-5 효율적인 화폐 구성(답안 - 직접 못 품)\n",
    "#정수 N,M을 입력받기\n",
    "n,m = map(int,input().split())\n",
    "#N개의 화폐 단위 정보를 입력받기\n",
    "array = []\n",
    "for i in range(n):\n",
    "    array.append(int(input()))\n",
    "    \n",
    "#한 번 계산된 결과를 저장하기 위한 DP 테이블 초기화\n",
    "d = [10001] * (m+1)\n",
    "\n",
    "#다이나믹 프로그래밍 진행(보텀업)\n",
    "d[0] = 0\n",
    "for i in range(n):\n",
    "    for j in range(array[i],m+1):\n",
    "        if(d[j-array[i]] != 10001): #(i-k)원을 만드는 방법이 존재하는 경우\n",
    "            d[j] = min(d[j], d[j-array[i]]+1)\n",
    "            \n",
    "#계산된 결과 출력\n",
    "if(d[m] == 10001): #최종적으로 M원을 만드는 방법이 있는 경우\n",
    "    print(-1)\n",
    "else:\n",
    "    print(d[m])"
   ]
  }
 ],
 "metadata": {
  "kernelspec": {
   "display_name": "Python 3",
   "language": "python",
   "name": "python3"
  },
  "language_info": {
   "codemirror_mode": {
    "name": "ipython",
    "version": 3
   },
   "file_extension": ".py",
   "mimetype": "text/x-python",
   "name": "python",
   "nbconvert_exporter": "python",
   "pygments_lexer": "ipython3",
   "version": "3.8.5"
  }
 },
 "nbformat": 4,
 "nbformat_minor": 4
}
