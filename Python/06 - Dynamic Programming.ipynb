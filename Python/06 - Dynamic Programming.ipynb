{
 "cells": [
  {
   "cell_type": "code",
   "execution_count": 1,
   "metadata": {},
   "outputs": [
    {
     "name": "stdout",
     "output_type": "stream",
     "text": [
      "3\n"
     ]
    }
   ],
   "source": [
    "#피보나치 함수 (재귀함수)\n",
    "def fibo(x):\n",
    "    if(x == 1 or x == 2):\n",
    "        return 1\n",
    "    return fibo(x-1) + fibo(x-2)\n",
    "\n",
    "print(fibo(4))"
   ]
  },
  {
   "cell_type": "code",
   "execution_count": 2,
   "metadata": {},
   "outputs": [
    {
     "name": "stdout",
     "output_type": "stream",
     "text": [
      "218922995834555169026\n"
     ]
    }
   ],
   "source": [
    "#피보나치 함수 (재귀함수 - 다이나믹프로그래맹)\n",
    "\n",
    "#한 번 계산된 결과를 메모리제이션하기 위한 리스트 초기화\n",
    "d = [0]*100\n",
    "\n",
    "#피보나치 함수를 재귀함수로 구현(탑다운 다이나믹 프로그래밍)\n",
    "def fibo(x):\n",
    "    #종료 조건 (1 혹은 2일 때 1을 반환)\n",
    "    if(x == 1 or x == 2):\n",
    "        return 1\n",
    "    #이미 계산한 적 있는 문제라면 그대로 반환\n",
    "    if(d[x] != 0):\n",
    "        return d[x]\n",
    "    #아직 계산하지 않은 문제라면 점화식에 따라서 피보나치 결과 반환\n",
    "    d[x] = fibo(x-1) + fibo(x-2)\n",
    "    return d[x]\n",
    "\n",
    "print(fibo(99))"
   ]
  },
  {
   "cell_type": "code",
   "execution_count": 3,
   "metadata": {},
   "outputs": [
    {
     "name": "stdout",
     "output_type": "stream",
     "text": [
      "f(6) f(5) f(4) f(3) f(2) f(1) f(2) f(3) f(4) "
     ]
    },
    {
     "data": {
      "text/plain": [
       "8"
      ]
     },
     "execution_count": 3,
     "metadata": {},
     "output_type": "execute_result"
    }
   ],
   "source": [
    "#피보나치 함수 (호출되는 함수 확인)\n",
    "d = [0]*100\n",
    "\n",
    "def fibo(x):\n",
    "    print('f('+str(x)+')',end=' ')\n",
    "    if(x == 1 or x == 2):\n",
    "        return 1\n",
    "    if(d[x] != 0):\n",
    "        return d[x]\n",
    "    d[x] = fibo(x-1) + fibo(x-2)\n",
    "    return d[x]\n",
    "\n",
    "fibo(6)"
   ]
  },
  {
   "cell_type": "code",
   "execution_count": 4,
   "metadata": {},
   "outputs": [
    {
     "name": "stdout",
     "output_type": "stream",
     "text": [
      "218922995834555169026\n"
     ]
    }
   ],
   "source": [
    "#피보나치 함수 (반복적)\n",
    "#앞서 계산된 결과를 저장하기 위한 DP 테이블 초기화\n",
    "d = [0]*100\n",
    "\n",
    "#첫 번째 피보나치 수와 두 번재 피보나치 수는 1\n",
    "d[1] = 1\n",
    "d[2] = 1\n",
    "n = 99\n",
    "\n",
    "#피보나치 함수 반복문으로 구현(보텀업 다이나믹 프로그래밍)\n",
    "for i in range(3,n+1):\n",
    "    d[i] = d[i-1] + d[i-2]\n",
    "    \n",
    "print(d[n])"
   ]
  }
 ],
 "metadata": {
  "kernelspec": {
   "display_name": "Python 3",
   "language": "python",
   "name": "python3"
  },
  "language_info": {
   "codemirror_mode": {
    "name": "ipython",
    "version": 3
   },
   "file_extension": ".py",
   "mimetype": "text/x-python",
   "name": "python",
   "nbconvert_exporter": "python",
   "pygments_lexer": "ipython3",
   "version": "3.8.5"
  }
 },
 "nbformat": 4,
 "nbformat_minor": 4
}
