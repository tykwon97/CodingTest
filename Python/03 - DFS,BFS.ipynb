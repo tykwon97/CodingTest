{
 "cells": [
  {
   "cell_type": "code",
   "execution_count": 76,
   "metadata": {},
   "outputs": [
    {
     "name": "stdout",
     "output_type": "stream",
     "text": [
      "15 14\n",
      "00000111100000\n",
      "11111101111110\n",
      "11011101101110\n",
      "11011101100000\n",
      "11011111111111\n",
      "11011111111100\n",
      "11000000011111\n",
      "01111111111111\n",
      "00000000011111\n",
      "01111111111000\n",
      "00011111111000\n",
      "00000001111000\n",
      "11111111110011\n",
      "11100011111111\n",
      "11100011111111\n",
      "8\n"
     ]
    }
   ],
   "source": [
    "# 5-3 음료수 얼려먹기\n",
    "\n",
    "def dfs(x,y):\n",
    "    frame[x][y] = \"2\"\n",
    "    if(0<= x+1 < n):\n",
    "        if(frame[x+1][y] == \"0\"):\n",
    "            dfs(x+1,y)\n",
    "    if(0<= x-1 < n):\n",
    "        if(frame[x-1][y] == \"0\"):\n",
    "            dfs(x-1,y)\n",
    "    if(0<= y+1 < m):\n",
    "        if(frame[x][y+1] == \"0\"):\n",
    "            dfs(x,y+1)\n",
    "    if(0<= y-1 < m):\n",
    "        if(frame[x][y-1] == \"0\"):\n",
    "            dfs(x,y-1)\n",
    "\n",
    "n,m = map(int,input().split())\n",
    "\n",
    "frame = [[]*m for _ in range(n)]\n",
    "\n",
    "for i in range(n) :\n",
    "    frame[i] = list(input())\n",
    "\n",
    "count = 0\n",
    "graph = []\n",
    "\n",
    "for a in range(n):\n",
    "    for b in range(m):\n",
    "        if(frame[a][b] == \"0\"):\n",
    "            graph.append((a,b))\n",
    "\n",
    "for row,column in graph:\n",
    "    if(frame[row][column] != \"2\"):\n",
    "        dfs(row,column)\n",
    "        count += 1\n",
    "\n",
    "print(count)\n"
   ]
  },
  {
   "cell_type": "code",
   "execution_count": 85,
   "metadata": {},
   "outputs": [
    {
     "name": "stdout",
     "output_type": "stream",
     "text": [
      "2 3\n",
      "789\n",
      "123\n",
      "1\n"
     ]
    }
   ],
   "source": [
    "n,m = map(int,input().split())\n",
    "frame = [[]*m for _ in range(n)]\n",
    "\n",
    "for i in range(n):\n",
    "    frame[i] = list(input())\n",
    "\n",
    "result = 0\n",
    "    \n",
    "def maze(x,y):\n",
    "    frame[x][y] = 2\n",
    "    \n",
    "    if(0<= (x-1) < n or 0<= (x+1) < n or 0<= (x-1) < n or 0<= (x+1) < n):\n",
    "        return False\n",
    "    maze(x+1,y)\n",
    "        \n",
    "    return True\n",
    "\n",
    "maze(0,0)\n",
    "\n",
    "print(result)\n",
    "\n",
    "\n"
   ]
  }
 ],
 "metadata": {
  "kernelspec": {
   "display_name": "Python 3",
   "language": "python",
   "name": "python3"
  },
  "language_info": {
   "codemirror_mode": {
    "name": "ipython",
    "version": 3
   },
   "file_extension": ".py",
   "mimetype": "text/x-python",
   "name": "python",
   "nbconvert_exporter": "python",
   "pygments_lexer": "ipython3",
   "version": "3.8.5"
  }
 },
 "nbformat": 4,
 "nbformat_minor": 4
}
