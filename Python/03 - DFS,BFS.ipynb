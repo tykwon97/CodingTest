{
 "cells": [
  {
   "cell_type": "code",
   "execution_count": 76,
   "metadata": {},
   "outputs": [
    {
     "name": "stdout",
     "output_type": "stream",
     "text": [
      "15 14\n",
      "00000111100000\n",
      "11111101111110\n",
      "11011101101110\n",
      "11011101100000\n",
      "11011111111111\n",
      "11011111111100\n",
      "11000000011111\n",
      "01111111111111\n",
      "00000000011111\n",
      "01111111111000\n",
      "00011111111000\n",
      "00000001111000\n",
      "11111111110011\n",
      "11100011111111\n",
      "11100011111111\n",
      "8\n"
     ]
    }
   ],
   "source": [
    "# 5-3 음료수 얼려먹기\n",
    "\n",
    "def dfs(x,y):\n",
    "    frame[x][y] = \"2\"\n",
    "    if(0<= x+1 < n):\n",
    "        if(frame[x+1][y] == \"0\"):\n",
    "            dfs(x+1,y)\n",
    "    if(0<= x-1 < n):\n",
    "        if(frame[x-1][y] == \"0\"):\n",
    "            dfs(x-1,y)\n",
    "    if(0<= y+1 < m):\n",
    "        if(frame[x][y+1] == \"0\"):\n",
    "            dfs(x,y+1)\n",
    "    if(0<= y-1 < m):\n",
    "        if(frame[x][y-1] == \"0\"):\n",
    "            dfs(x,y-1)\n",
    "\n",
    "n,m = map(int,input().split())\n",
    "\n",
    "frame = [[]*m for _ in range(n)]\n",
    "\n",
    "for i in range(n) :\n",
    "    frame[i] = list(input())\n",
    "\n",
    "count = 0\n",
    "graph = []\n",
    "\n",
    "for a in range(n):\n",
    "    for b in range(m):\n",
    "        if(frame[a][b] == \"0\"):\n",
    "            graph.append((a,b))\n",
    "\n",
    "for row,column in graph:\n",
    "    if(frame[row][column] != \"2\"):\n",
    "        dfs(row,column)\n",
    "        count += 1\n",
    "\n",
    "print(count)\n"
   ]
  },
  {
   "cell_type": "code",
   "execution_count": 2,
   "metadata": {},
   "outputs": [
    {
     "name": "stdout",
     "output_type": "stream",
     "text": [
      "4 5\n",
      "00110\n",
      "11100\n",
      "01111\n",
      "00100\n",
      "4\n"
     ]
    }
   ],
   "source": [
    "# 5-3 음료수 얼려먹기 (답안)\n",
    "#N과 m을 공백으로 구분하여 입력받기\n",
    "n,m = map(int, input().split())\n",
    "\n",
    "#2차원 리스트의 맵 정보 입력받기\n",
    "graph = []\n",
    "for i in range(n):\n",
    "    graph.append(list(map(int,input())))\n",
    "    \n",
    "#DFS로 특정한 노드를 방문한 뒤에 연결된 모드 노드들도 방문\n",
    "def dfs(x,y):\n",
    "    #주어진 범위를 벗어나는 경우에는 즉시 종료\n",
    "    if(x <= -1 or x >= n or y <= -1 or y>=m):\n",
    "        return False\n",
    "    #현재 노드를 아직 방문하지 않았다면\n",
    "    if(graph[x][y] == 0):\n",
    "        #해당 노드 방문 처리\n",
    "        graph[x][y] = 1\n",
    "        #상,하,좌,우의 위치도 모두 재귀적으로 호출\n",
    "        dfs(x+1,y)\n",
    "        dfs(x-1,y)\n",
    "        dfs(x,y+1)\n",
    "        dfs(x,y-1)\n",
    "        return True\n",
    "    return False\n",
    "\n",
    "#모든 노드(위치)에 대하여 음료수 채우기\n",
    "result = 0\n",
    "for i in range(n):\n",
    "    for j in range(m):\n",
    "        #현재 위치에서 DFS 수행\n",
    "        if(dfs(i,j) ==True):\n",
    "            result +=1\n",
    "            \n",
    "print(result)"
   ]
  },
  {
   "cell_type": "code",
   "execution_count": 1,
   "metadata": {
    "scrolled": true
   },
   "outputs": [
    {
     "name": "stdout",
     "output_type": "stream",
     "text": [
      "5 6\n",
      "101010\n",
      "111111\n",
      "000001\n",
      "111111\n",
      "111111\n",
      "10\n"
     ]
    }
   ],
   "source": [
    "#5-4 미로 탈출 - 맞는지 정확하지 않음!!!!\n",
    "n,m = map(int,input().split())\n",
    "frame = [[]*m for _ in range(n)]\n",
    "\n",
    "for i in range(n):\n",
    "    frame[i] = list(input()) \n",
    "\n",
    "result = [] \n",
    "\n",
    "def maze(x,y,count,newArray):\n",
    "    \n",
    "    newFrame = newArray[:][:]\n",
    "                    \n",
    "    if(0<= x < n and 0<= y < m):\n",
    "        if(x == (n-1) and y == (m-1)):  \n",
    "            count += 1\n",
    "            #print(\"count : \",count)\n",
    "            result.append(count)\n",
    "        else :\n",
    "            if(newFrame[x][y] == \"1\"):\n",
    "                newFrame[x][y] = \"2\"\n",
    "                count += 1\n",
    "                \n",
    "                maze(x+1,y,count,newFrame)\n",
    "                maze(x,y+1,count,newFrame)\n",
    "                maze(x-1,y,count,newFrame)\n",
    "                maze(x,y-1,count,newFrame)\n",
    "\n",
    "#전역변수 문제로 인해 최소값 구하지 못함\n",
    "maze(0,0,0,frame)\n",
    "\n",
    "\n",
    "print(min(result))\n"
   ]
  },
  {
   "cell_type": "code",
   "execution_count": 3,
   "metadata": {},
   "outputs": [
    {
     "name": "stdout",
     "output_type": "stream",
     "text": [
      "5 6\n",
      "101010\n",
      "111111\n",
      "000001\n",
      "111111\n",
      "111111\n",
      "10\n"
     ]
    }
   ],
   "source": [
    "#5-4 미로 탈출(답안)\n",
    "from collections import deque\n",
    "\n",
    "#N과 M을 공백으로 구분하여 입력받기\n",
    "n,m = map(int,input().split())\n",
    "\n",
    "#2차원 리스트의 맵 정보 입력받기\n",
    "graph = []\n",
    "for i in range(n):\n",
    "    graph.append(list(map(int,input())))\n",
    "\n",
    "#이동할 네 방향 정의(상,하,좌,우)\n",
    "dx = [-1,1,0,0]\n",
    "dy = [0,0,-1,1]\n",
    "\n",
    "#BFS 소스코드 구현\n",
    "def bfs(x,y):\n",
    "    #큐 구현을 위해 deque 라이브러리 사용\n",
    "    queue = deque()\n",
    "    queue.append((x,y))\n",
    "    #큐가 빌때까지 반복\n",
    "    while queue:\n",
    "        x,y = queue.popleft()\n",
    "        #현재 위치에서 네 방향으로의 위치 확인\n",
    "        for i in range(4):\n",
    "            nx = x+dx[i]\n",
    "            ny = y+dy[i]\n",
    "            #미로 찾기 공간을 벗어난 경우 무시\n",
    "            if(nx < 0 or ny < 0 or nx >= n or ny >= m):\n",
    "                continue\n",
    "            #벽인 경우 무시\n",
    "            if (graph[nx][ny] == 0):\n",
    "                continue\n",
    "            #해당 노드를 처음 방문하는 경우에만 최단 거리 기록\n",
    "            if(graph[nx][ny] == 1):\n",
    "                graph[nx][ny] = graph[x][y]+1\n",
    "                queue.append((nx,ny))\n",
    "    #가장 오른쪽 아래까지의 최단 거리 반환\n",
    "    return graph[n-1][m-1]\n",
    "\n",
    "#BFS를 수행한 결과 출력\n",
    "print(bfs(0,0))"
   ]
  },
  {
   "cell_type": "code",
   "execution_count": null,
   "metadata": {},
   "outputs": [],
   "source": []
  }
 ],
 "metadata": {
  "kernelspec": {
   "display_name": "Python 3",
   "language": "python",
   "name": "python3"
  },
  "language_info": {
   "codemirror_mode": {
    "name": "ipython",
    "version": 3
   },
   "file_extension": ".py",
   "mimetype": "text/x-python",
   "name": "python",
   "nbconvert_exporter": "python",
   "pygments_lexer": "ipython3",
   "version": "3.8.5"
  }
 },
 "nbformat": 4,
 "nbformat_minor": 4
}
