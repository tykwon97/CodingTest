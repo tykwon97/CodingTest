{
 "cells": [
  {
   "cell_type": "markdown",
   "metadata": {},
   "source": [
    "# 자료형"
   ]
  },
  {
   "cell_type": "code",
   "execution_count": 2,
   "metadata": {},
   "outputs": [
    {
     "name": "stdout",
     "output_type": "stream",
     "text": [
      "1000000000.0\n",
      "752.5\n"
     ]
    }
   ],
   "source": [
    "#10억의 지수 표현 방식\n",
    "a = 1e9\n",
    "print(a)\n",
    "\n",
    "#752.5\n",
    "b = 75.25e1\n",
    "print(b)"
   ]
  },
  {
   "cell_type": "code",
   "execution_count": 7,
   "metadata": {},
   "outputs": [
    {
     "name": "stdout",
     "output_type": "stream",
     "text": [
      "0.8999999999999999\n",
      "False\n",
      "0.9\n",
      "True\n"
     ]
    }
   ],
   "source": [
    "#round() -> 반올림할 때 사용\n",
    "a = 0.3 + 0.6\n",
    "print(a)\n",
    "\n",
    "if(a == 0.9):\n",
    "    print(True)\n",
    "else:\n",
    "    print(False)\n",
    "    \n",
    "a = 0.3 + 0.6\n",
    "print(round(a,4)) #두번째 인자 - 특정 자릿수에서 반올림\n",
    "\n",
    "if(round(a,4) == 0.9):\n",
    "    print(True)\n",
    "else:\n",
    "    print(False)"
   ]
  },
  {
   "cell_type": "code",
   "execution_count": 1,
   "metadata": {},
   "outputs": [
    {
     "name": "stdout",
     "output_type": "stream",
     "text": [
      "125\n"
     ]
    }
   ],
   "source": [
    "#거듭제곱 연산자 x**y = x^y\n",
    "a = 5\n",
    "b = 3\n",
    "print(a**b)"
   ]
  },
  {
   "cell_type": "markdown",
   "metadata": {},
   "source": [
    "# 리스트 자료형"
   ]
  },
  {
   "cell_type": "code",
   "execution_count": 22,
   "metadata": {},
   "outputs": [
    {
     "name": "stdout",
     "output_type": "stream",
     "text": [
      "[]\n",
      "[]\n",
      "[0, 0, 0, 0, 0, 0, 0, 0, 0, 0]\n",
      "[1, 3, 5, 7, 9, 11, 13, 15, 17, 19]\n",
      "[1, 4, 9, 16, 25, 36, 49, 64, 81]\n",
      "[[0, 0, 0, 0], [0, 0, 0, 0], [0, 0, 0, 0]]\n",
      "[[0, 0, 0, 0], [0, 0, 0, 0], [0, 0, 0, 0]]\n",
      "[[0, 5, 0, 0], [0, 5, 0, 0], [0, 5, 0, 0]]\n"
     ]
    }
   ],
   "source": [
    "#빈 리스트 선언 방법\n",
    "a = list()\n",
    "print(a)\n",
    "\n",
    "b = []\n",
    "print(b)\n",
    "\n",
    "#크기가 n이고, 모든 값이 0인 1차원 리스트 초기화\n",
    "n = 10\n",
    "c = [0] * n\n",
    "print(c)\n",
    "\n",
    "#리스트 컴프리헨션\n",
    "#대괄호안에 조건문과 반복문을 넣는 방식으로 리스트 초기화\n",
    "\n",
    "#0부터 19까지의 수 중에서 홀수만 포함하는 리스트\n",
    "array1 = [i for i in range(20) if i%2 == 1]\n",
    "print(array1)\n",
    "\n",
    "#1부터 9까지의 수의 제곱 값을 포함하는 리스트\n",
    "array2 = [ i*i for i in range(1,10)]\n",
    "print(array2)\n",
    "\n",
    "# N*M 크기의 2차원 리스트 초기화\n",
    "n = 3\n",
    "m = 4\n",
    "array = [[0]*m for _ in range(n)]\n",
    "print(array)\n",
    "\n",
    "# N*M 크기의 2차원 리스트 초기화(잘못된 방법)\n",
    "n = 3\n",
    "m = 4\n",
    "array = [[0]*m]*n\n",
    "print(array)\n",
    "\n",
    "array[1][1] = 5\n",
    "print(array)"
   ]
  },
  {
   "cell_type": "code",
   "execution_count": 26,
   "metadata": {
    "scrolled": true
   },
   "outputs": [
    {
     "name": "stdout",
     "output_type": "stream",
     "text": [
      "오름차순 정렬 :  [1, 2, 3, 3, 4]\n",
      "내림차순 정렬 :  [4, 3, 3, 2, 1]\n",
      "원소 뒤집기   :  [1, 2, 3, 3, 4]\n",
      "값이 3인 데이터 개수 :  2\n",
      "삽입 :  [1, 2, 3, 3, 4, 2]\n",
      "인덱스 2에 3 추가 :  [1, 2, 5, 3, 3, 4, 2]\n",
      "2와 3을 제외한 리스트 :  [1, 5, 4]\n"
     ]
    }
   ],
   "source": [
    "#리스트 관련 기타 메소드\n",
    "\n",
    "a = [1,3,4,2,3]\n",
    "\n",
    "#오름차순 정렬\n",
    "a.sort()\n",
    "print(\"오름차순 정렬 : \",a)\n",
    "\n",
    "#내림차순 정렬\n",
    "a.sort(reverse = True)\n",
    "print(\"내림차순 정렬 : \",a)\n",
    "\n",
    "#리스트 원소 뒤집기\n",
    "a.reverse()\n",
    "print(\"원소 뒤집기   : \",a)\n",
    "\n",
    "#특정 값인 데이터 개수 세기\n",
    "print(\"값이 3인 데이터 개수 : \",a.count(3))\n",
    "\n",
    "#삽입 방법 2가지\n",
    "#제일 뒤에 추가\n",
    "a.append(2)\n",
    "print(\"삽입 : \",a)\n",
    "\n",
    "#특정 위치에 추가\n",
    "a.insert(2,5)\n",
    "print(\"인덱스 2에 3 추가 : \",a)\n",
    "\n",
    "#remove_set에 포함되지 않은 값들만 저장\n",
    "remove_set = {3,2}\n",
    "result = [x for x in a if x not in remove_set]\n",
    "print(\"2와 3을 제외한 리스트 : \",result)"
   ]
  },
  {
   "cell_type": "markdown",
   "metadata": {},
   "source": [
    "# 문자열"
   ]
  },
  {
   "cell_type": "code",
   "execution_count": 30,
   "metadata": {
    "scrolled": true
   },
   "outputs": [
    {
     "name": "stdout",
     "output_type": "stream",
     "text": [
      "나는 \"천재\"다\n",
      "stringstringstring\n",
      "나는 천재다\n"
     ]
    }
   ],
   "source": [
    "# 백슬레쉬를 사용해서 문자열에 \" 나 ' 를 포함시키기\n",
    "data = \"나는 \\\"천재\\\"다\"\n",
    "print(data)\n",
    "\n",
    "# 문자열 연산\n",
    "a = \"string\"\n",
    "print(a*3)\n",
    "\n",
    "b = \"나는\"\n",
    "c = \"천재다\"\n",
    "print(b+\" \"+c)"
   ]
  },
  {
   "cell_type": "markdown",
   "metadata": {},
   "source": [
    "# 튜플 자료형\n",
    "튜플 : 한 번 선언된 값은 변경할 수 없다.  \n",
    "리스트 : [] , 튜플 : () , 집합 : {}"
   ]
  },
  {
   "cell_type": "code",
   "execution_count": 40,
   "metadata": {},
   "outputs": [
    {
     "name": "stdout",
     "output_type": "stream",
     "text": [
      "(1, 2, 3, 4)\n"
     ]
    },
    {
     "ename": "TypeError",
     "evalue": "'tuple' object does not support item assignment",
     "output_type": "error",
     "traceback": [
      "\u001b[1;31m---------------------------------------------------------------------------\u001b[0m",
      "\u001b[1;31mTypeError\u001b[0m                                 Traceback (most recent call last)",
      "\u001b[1;32m<ipython-input-40-da8c6f38868a>\u001b[0m in \u001b[0;36m<module>\u001b[1;34m\u001b[0m\n\u001b[0;32m      1\u001b[0m \u001b[0ma\u001b[0m \u001b[1;33m=\u001b[0m \u001b[1;33m(\u001b[0m\u001b[1;36m1\u001b[0m\u001b[1;33m,\u001b[0m\u001b[1;36m2\u001b[0m\u001b[1;33m,\u001b[0m\u001b[1;36m3\u001b[0m\u001b[1;33m,\u001b[0m\u001b[1;36m4\u001b[0m\u001b[1;33m)\u001b[0m\u001b[1;33m\u001b[0m\u001b[1;33m\u001b[0m\u001b[0m\n\u001b[0;32m      2\u001b[0m \u001b[0mprint\u001b[0m\u001b[1;33m(\u001b[0m\u001b[0ma\u001b[0m\u001b[1;33m)\u001b[0m\u001b[1;33m\u001b[0m\u001b[1;33m\u001b[0m\u001b[0m\n\u001b[1;32m----> 3\u001b[1;33m \u001b[0ma\u001b[0m\u001b[1;33m[\u001b[0m\u001b[1;36m2\u001b[0m\u001b[1;33m]\u001b[0m \u001b[1;33m=\u001b[0m \u001b[1;36m7\u001b[0m \u001b[1;31m#튜플은 변경 불가능!! (에러 발생)\u001b[0m\u001b[1;33m\u001b[0m\u001b[1;33m\u001b[0m\u001b[0m\n\u001b[0m",
      "\u001b[1;31mTypeError\u001b[0m: 'tuple' object does not support item assignment"
     ]
    }
   ],
   "source": [
    "a = (1,2,3,4)\n",
    "print(a)\n",
    "a[2] = 7 #튜플은 변경 불가능!! (에러 발생)"
   ]
  },
  {
   "cell_type": "markdown",
   "metadata": {},
   "source": [
    "# 사전 자료형\n",
    "key 와 value의 쌍을 가지는 데이터  \n",
    "파이썬의 사전 자료형은 내부적으로 해시 테이블을 이용하므로 기본적으로 데이터의 검색 및 수정 -> O(1)의 시간에 처리"
   ]
  },
  {
   "cell_type": "code",
   "execution_count": 39,
   "metadata": {},
   "outputs": [
    {
     "name": "stdout",
     "output_type": "stream",
     "text": [
      "{'사과': 'Apple', '바나나': 'Banana', '코코넛': 'Coconut'}\n",
      "'사과'를 키로 가지는 데이터가 존재합니다.\n",
      "\n",
      "dict_keys(['사과', '바나나', '코코넛'])\n",
      "dict_values(['Apple', 'Banana', 'Coconut'])\n",
      "Apple\n",
      "Banana\n",
      "Coconut\n"
     ]
    }
   ],
   "source": [
    "data = dict()\n",
    "data['사과'] = 'Apple'\n",
    "data['바나나'] = 'Banana'\n",
    "data['코코넛'] = 'Coconut'\n",
    "\n",
    "print(data)\n",
    "\n",
    "if '사과' in data:\n",
    "    print(\"'사과'를 키로 가지는 데이터가 존재합니다.\")\n",
    "print()\n",
    "\n",
    "#키 데이터만 담은 리스트\n",
    "key_list = data.keys()\n",
    "#값 데이터만 담은 리스트\n",
    "value_list = data.values()\n",
    "print(key_list)\n",
    "print(value_list)\n",
    "\n",
    "#각 키에 따른 값을 하나씩 출력\n",
    "for key in key_list:\n",
    "    print(data[key])"
   ]
  },
  {
   "cell_type": "markdown",
   "metadata": {},
   "source": [
    "# 집합 자료형\n",
    "1. 중복을 허용하지 않는다  \n",
    "2. 순서가 없다  \n",
    "초기화 : set()함수 이용 or 중괄호{} 안에 각 원소를 ,를 기준으로 구분"
   ]
  },
  {
   "cell_type": "code",
   "execution_count": 41,
   "metadata": {},
   "outputs": [
    {
     "name": "stdout",
     "output_type": "stream",
     "text": [
      "{1, 2, 3, 4, 5}\n",
      "{1, 2, 3, 4, 5}\n"
     ]
    }
   ],
   "source": [
    "#집합 자료형 초기화 방법1\n",
    "data = set([1,1,2,3,4,4,5])\n",
    "print(data)\n",
    "\n",
    "#집합 자료형 초기화 방법2\n",
    "data = {1,1,2,3,4,4,5}\n",
    "print(data)"
   ]
  },
  {
   "cell_type": "code",
   "execution_count": 42,
   "metadata": {
    "scrolled": true
   },
   "outputs": [
    {
     "name": "stdout",
     "output_type": "stream",
     "text": [
      "{1, 2, 3, 4, 5, 6, 7}\n",
      "{3, 4, 5}\n",
      "{1, 2}\n"
     ]
    }
   ],
   "source": [
    "#집합 자료형의 연산\n",
    "a = set([1,2,3,4,5])\n",
    "b = set([3,4,5,6,7])\n",
    "\n",
    "print(a|b) #합집합\n",
    "print(a&b) #교집합\n",
    "print(a-b) #차집합"
   ]
  },
  {
   "cell_type": "code",
   "execution_count": 44,
   "metadata": {
    "scrolled": true
   },
   "outputs": [
    {
     "name": "stdout",
     "output_type": "stream",
     "text": [
      "{1, 2, 3}\n",
      "{1, 2, 3, 4}\n",
      "{1, 2, 3, 4, 5, 6}\n",
      "{1, 2, 4, 5, 6}\n"
     ]
    }
   ],
   "source": [
    "#집합 자료형 관련 함수\n",
    "data = set([1,2,3])\n",
    "print(data)\n",
    "\n",
    "#새로운 원소 추가 -> add\n",
    "data.add(4)\n",
    "print(data)\n",
    "\n",
    "#새로운 원소 여러 개 추가 -> update\n",
    "data.update([5,6])\n",
    "print(data)\n",
    "\n",
    "#특정한 값을 갖는 원소 삭제\n",
    "data.remove(3)\n",
    "print(data)"
   ]
  },
  {
   "cell_type": "markdown",
   "metadata": {},
   "source": [
    "# 조건문"
   ]
  },
  {
   "cell_type": "code",
   "execution_count": 45,
   "metadata": {
    "scrolled": true
   },
   "outputs": [
    {
     "name": "stdout",
     "output_type": "stream",
     "text": [
      "Success\n"
     ]
    }
   ],
   "source": [
    "#조건문에서 실행될 소스코드가 한 줄인 경우\n",
    "score = 85\n",
    "\n",
    "if score>= 80: result = \"Success\"\n",
    "else : result = \"Fail\"\n",
    "print(result)"
   ]
  },
  {
   "cell_type": "code",
   "execution_count": 46,
   "metadata": {},
   "outputs": [
    {
     "name": "stdout",
     "output_type": "stream",
     "text": [
      "Success\n"
     ]
    }
   ],
   "source": [
    "#조건문 표현식을 이용하면 if ~ else 문을 한 줄에 작성해 사용할 수 있다.\n",
    "score = 85\n",
    "result = \"Success\" if score>=80 else \"Fail\"\n",
    "\n",
    "print(result)"
   ]
  },
  {
   "cell_type": "markdown",
   "metadata": {},
   "source": [
    "# 함수\n",
    "  \n",
    "global 함수 : 함수 안에서 함수 밖의 변수 데이터를 변경해야 하는 경우"
   ]
  },
  {
   "cell_type": "code",
   "execution_count": 50,
   "metadata": {},
   "outputs": [
    {
     "name": "stdout",
     "output_type": "stream",
     "text": [
      "함수의 결과 :  10\n",
      "10\n"
     ]
    }
   ],
   "source": [
    "#매개 변수의 순서가 달라도 상관x , 직접 지정 가능\n",
    "def add(a,b):\n",
    "    print(\"함수의 결과 : \",a+b)\n",
    "    \n",
    "add(b=7, a=3)\n",
    "\n",
    "a = 0\n",
    "\n",
    "def func() :\n",
    "    global a\n",
    "    a += 1\n",
    "    \n",
    "for i in range(10):\n",
    "    func()\n",
    "    \n",
    "print(a)"
   ]
  },
  {
   "cell_type": "code",
   "execution_count": 51,
   "metadata": {},
   "outputs": [
    {
     "name": "stdout",
     "output_type": "stream",
     "text": [
      "10\n",
      "10\n"
     ]
    }
   ],
   "source": [
    "#람다 표현식\n",
    "def add(a,b):\n",
    "    return a+b\n",
    "\n",
    "#일반적인 add()메소드 사용\n",
    "print(add(3,7))\n",
    "\n",
    "#람다 표현식으로 구현한 add()메서드\n",
    "print((lambda a,b : a+b)(3,7))"
   ]
  },
  {
   "cell_type": "markdown",
   "metadata": {},
   "source": [
    "# 입출력\n",
    "input()함수는 동작 속도가 느려서 시간 초과로 오답 판정을 받을 수 있다 -> sys.stdin.readline().rstrip() 사용  \n",
    "sys 라이브러리를 사용할 때는 한 줄 입력을 받고 나서 rstrip()함수를 꼭 호출해야됨  \n",
    "readline()으로 입력하면 입력 후 엔터가 줄 바꿈 기호로 입력되는데, 이 공백 문자를 제거하려면 rstrip() 함수를 사용해야한다.\n",
    "  \n",
    "#### readline()사용 소스코드 예시\n",
    "  \n",
    "import sys  \n",
    "data = sys.stdin.readline().rstrip()  \n",
    "print(data)"
   ]
  },
  {
   "cell_type": "code",
   "execution_count": 53,
   "metadata": {},
   "outputs": [
    {
     "name": "stdout",
     "output_type": "stream",
     "text": [
      "정답은 7입니다.\n"
     ]
    },
    {
     "ename": "TypeError",
     "evalue": "can only concatenate str (not \"int\") to str",
     "output_type": "error",
     "traceback": [
      "\u001b[1;31m---------------------------------------------------------------------------\u001b[0m",
      "\u001b[1;31mTypeError\u001b[0m                                 Traceback (most recent call last)",
      "\u001b[1;32m<ipython-input-53-6785eb0f9097>\u001b[0m in \u001b[0;36m<module>\u001b[1;34m\u001b[0m\n\u001b[0;32m      7\u001b[0m \u001b[1;33m\u001b[0m\u001b[0m\n\u001b[0;32m      8\u001b[0m \u001b[1;31m#오류 발생\u001b[0m\u001b[1;33m\u001b[0m\u001b[1;33m\u001b[0m\u001b[1;33m\u001b[0m\u001b[0m\n\u001b[1;32m----> 9\u001b[1;33m \u001b[0mprint\u001b[0m\u001b[1;33m(\u001b[0m\u001b[1;34m\"정답은 \"\u001b[0m\u001b[1;33m+\u001b[0m\u001b[0manswer\u001b[0m\u001b[1;33m+\u001b[0m\u001b[1;34m\"입니다.\"\u001b[0m\u001b[1;33m)\u001b[0m\u001b[1;33m\u001b[0m\u001b[1;33m\u001b[0m\u001b[0m\n\u001b[0m",
      "\u001b[1;31mTypeError\u001b[0m: can only concatenate str (not \"int\") to str"
     ]
    }
   ],
   "source": [
    "#변수를 문자열로 바꾸어 출력하는 소스코드 예시\n",
    "#출력할 변수들\n",
    "answer = 7\n",
    "\n",
    "#정상\n",
    "print(\"정답은 \"+str(answer)+\"입니다.\")\n",
    "\n",
    "#오류 발생\n",
    "print(\"정답은 \"+answer+\"입니다.\")"
   ]
  },
  {
   "cell_type": "code",
   "execution_count": 55,
   "metadata": {
    "scrolled": true
   },
   "outputs": [
    {
     "name": "stdout",
     "output_type": "stream",
     "text": [
      "정답은 7입니다.\n"
     ]
    }
   ],
   "source": [
    "# f-string 문법 : 문자열 앞에 접두사'f'를 붙이기\n",
    "answer = 7\n",
    "print(f\"정답은 {answer}입니다.\")"
   ]
  },
  {
   "cell_type": "markdown",
   "metadata": {},
   "source": [
    "# 주요 라이브러리 문법"
   ]
  },
  {
   "cell_type": "code",
   "execution_count": 56,
   "metadata": {},
   "outputs": [
    {
     "name": "stdout",
     "output_type": "stream",
     "text": [
      "56\n"
     ]
    }
   ],
   "source": [
    "# eval : 수학 수식이 문자열 형식으로 들어오면 해당 수식을 계산한 결과를 반환\n",
    "result = eval(\"(3+5) * 7\")\n",
    "print(result)"
   ]
  },
  {
   "cell_type": "code",
   "execution_count": 58,
   "metadata": {},
   "outputs": [
    {
     "name": "stdout",
     "output_type": "stream",
     "text": [
      "[1, 4, 5, 8, 9]\n",
      "[9, 8, 5, 4, 1]\n",
      "[(['이순신'], 75), (['아무개'], 50), (['홍길동'], 35)]\n"
     ]
    }
   ],
   "source": [
    "#sorted()함수 : iterable 객체가 들어왔을 때, 정렬된 결과를 반환\n",
    "#key속성으로 정렬 기준을 명시\n",
    "#reverse 속성으로 정렬된 결과 리스트를 뒤집을지의 여부를 설정\n",
    "\n",
    "result = sorted([9,1,8,5,4])                 #오름차순으로 정렬\n",
    "print(result)\n",
    "\n",
    "result = sorted([9,1,8,5,4], reverse = True) #내림차순으로 정렬\n",
    "print(result)\n",
    "\n",
    "result = sorted([(['홍길동'], 35), (['이순신'],75), (['아무개'],50)], key = lambda x: x[1], reverse = True )\n",
    "print(result)"
   ]
  },
  {
   "cell_type": "markdown",
   "metadata": {},
   "source": [
    "# itertools\n",
    "  \n",
    "permutations(순열)는 리스트와 같은 iterable 객체에서 r개의 데이터를 뽑아 일렬로 나열하는 모든 경우(순열)를 계산한다.  \n",
    "combinations(조합)는 리스트와 같은 iterable 객체에서 r개의 데이터를 뽑아 순서를 고려하지 않고 나열하는 모든 경우(조합)를 계산한다.   \n",
    "product(중복 순열)는 리스트와 같은 iterable 객체에서 r개의 데이터를 뽑아 일렬로 나열하는 모든 경우(순열)를 계산한다. 다만, 원소를 중복하여 뽑는다.\n",
    "  \n",
    "combinations_with_replacement 는 combinations와 같이 리스트와 같은 iterable 객체에서 r개의 데이터를 뽑아 순서를 고려하지 않고 나열하는  \n",
    "모든 경우(조합)을 계산한다."
   ]
  },
  {
   "cell_type": "code",
   "execution_count": 59,
   "metadata": {},
   "outputs": [
    {
     "name": "stdout",
     "output_type": "stream",
     "text": [
      "[('A', 'B', 'C'), ('A', 'C', 'B'), ('B', 'A', 'C'), ('B', 'C', 'A'), ('C', 'A', 'B'), ('C', 'B', 'A')]\n"
     ]
    }
   ],
   "source": [
    "# permutations\n",
    "from itertools import permutations\n",
    "\n",
    "data = ['A', 'B', 'C'] #데이터 준비\n",
    "result = list(permutations(data, 3)) #모든 순열 구하기\n",
    "\n",
    "print(result)"
   ]
  },
  {
   "cell_type": "code",
   "execution_count": 60,
   "metadata": {},
   "outputs": [
    {
     "name": "stdout",
     "output_type": "stream",
     "text": [
      "[('A', 'B'), ('A', 'C'), ('B', 'C')]\n"
     ]
    }
   ],
   "source": [
    "# combinations\n",
    "from itertools import combinations\n",
    "\n",
    "data = ['A', 'B', 'C'] #데이터 준비\n",
    "result = list(combinations(data, 2)) #2개를 뽑는 모든 조합 구하기\n",
    "\n",
    "print(result)"
   ]
  },
  {
   "cell_type": "code",
   "execution_count": 61,
   "metadata": {},
   "outputs": [
    {
     "name": "stdout",
     "output_type": "stream",
     "text": [
      "[('A', 'A'), ('A', 'B'), ('A', 'C'), ('B', 'A'), ('B', 'B'), ('B', 'C'), ('C', 'A'), ('C', 'B'), ('C', 'C')]\n"
     ]
    }
   ],
   "source": [
    "# product\n",
    "from itertools import product\n",
    "\n",
    "data = ['A', 'B', 'C'] #데이터 준비\n",
    "result = list(product(data, repeat = 2)) #2개를 뽑는 모든 순열 구하기(중복 허용)\n",
    "\n",
    "print(result)"
   ]
  },
  {
   "cell_type": "code",
   "execution_count": 63,
   "metadata": {},
   "outputs": [
    {
     "name": "stdout",
     "output_type": "stream",
     "text": [
      "[('A', 'A'), ('A', 'B'), ('A', 'C'), ('B', 'B'), ('B', 'C'), ('C', 'C')]\n"
     ]
    }
   ],
   "source": [
    "# combinations_with_replacement\n",
    "# combinations와 같으나 원소를 중복해서 뽑는다\n",
    "from itertools import combinations_with_replacement\n",
    "\n",
    "data = ['A', 'B', 'C'] #데이터 준비\n",
    "result = list(combinations_with_replacement(data, 2)) #2개를 뽑는 모든 순열 구하기(중복 허용)\n",
    "\n",
    "print(result)"
   ]
  },
  {
   "cell_type": "markdown",
   "metadata": {},
   "source": [
    "# heapq\n",
    "파이썬의 힙 기능을 위해 heapq 라이브러리를 제공  "
   ]
  },
  {
   "cell_type": "code",
   "execution_count": 64,
   "metadata": {},
   "outputs": [
    {
     "name": "stdout",
     "output_type": "stream",
     "text": [
      "[0, 1, 2, 3, 4, 5, 6, 7, 8, 9]\n"
     ]
    }
   ],
   "source": [
    "# heapq의 사용 방법 : 힙 정렬을 heapq로 구현하는 예제\n",
    "\n",
    "import heapq\n",
    "\n",
    "def heapsort(iterable):\n",
    "    h = []\n",
    "    result = []\n",
    "    #모든 원소를 차례대로 힙에 삽입\n",
    "    for value in iterable:\n",
    "        heapq.heappush(h, value)\n",
    "    #힙에 삽입된 모든 원소를 차례대로 꺼내어 담기\n",
    "    for _ in range(len(h)):\n",
    "        result.append(heapq.heappop(h))\n",
    "    return result\n",
    "\n",
    "result = heapsort([1,3,5,7,9,2,4,6,8,0])\n",
    "print(result)"
   ]
  },
  {
   "cell_type": "markdown",
   "metadata": {},
   "source": [
    "파이썬에서는 최대 힙을 제공하지 않는다.  \n",
    "따라서 heapq 라이브러리를 이용하여 최대 힙을 구현해야 할 때는 원소의 부호를 입시로 변경하는 방식을 사용\n",
    "힙에 원소를 삽입하기 전에 잠시 부호를 반대로 바꾸었다가, 힙에서 원소를 꺼낸 뒤에 다시 원소의 부호를 바꾸면 된다."
   ]
  },
  {
   "cell_type": "code",
   "execution_count": 66,
   "metadata": {},
   "outputs": [
    {
     "name": "stdout",
     "output_type": "stream",
     "text": [
      "[9, 8, 7, 6, 5, 4, 3, 2, 1, 0]\n"
     ]
    }
   ],
   "source": [
    "#최대 힙을 구현하여 내림차순 힙 정렬 구현 예시\n",
    "\n",
    "import heapq\n",
    "\n",
    "def heapsort(iterable):\n",
    "    h = []\n",
    "    result = []\n",
    "    #모든 원소를 차례대로 힙에 삽입\n",
    "    for value in iterable:\n",
    "        heapq.heappush(h, -value)\n",
    "    #힙에 삽입된 모든 원소를 차례대로 꺼내어 담기\n",
    "    for _ in range(len(h)):\n",
    "        result.append(-heapq.heappop(h))\n",
    "    return result\n",
    "\n",
    "result = heapsort([1,3,5,7,9,2,4,6,8,0])\n",
    "print(result)"
   ]
  },
  {
   "cell_type": "markdown",
   "metadata": {},
   "source": [
    "# bisect\n",
    "파이썬 에서는 이진 탐색을 쉽게 구현할 수 있도록 bisect 라이브러리를 제공  \n",
    "정렬된 배열에서 특정한 원소를 찾아야 할 때 매우 효과적으로 사용됨  \n",
    "- bisect_left(a,x) : 정렬된 순서를 유지하면서 리스트 a에 데이터 x를 삽입할 가장 왼쪽 인덱스를 찾는 메서드\n",
    "- bisect_right(a,x) : 정렬된 순서를 유지하면서 리스트 a에 데이터 x를 삽입할 가장 오른쪽 인덱스를 찾는 메서드"
   ]
  },
  {
   "cell_type": "code",
   "execution_count": 67,
   "metadata": {},
   "outputs": [
    {
     "name": "stdout",
     "output_type": "stream",
     "text": [
      "2\n",
      "4\n"
     ]
    }
   ],
   "source": [
    "from bisect import bisect_left, bisect_right\n",
    "\n",
    "a = [1,2,4,4,8]\n",
    "x = 4\n",
    "\n",
    "print(bisect_left(a,x))\n",
    "print(bisect_right(a,x))"
   ]
  },
  {
   "cell_type": "code",
   "execution_count": 69,
   "metadata": {},
   "outputs": [
    {
     "name": "stdout",
     "output_type": "stream",
     "text": [
      "2\n",
      "6\n"
     ]
    }
   ],
   "source": [
    "from bisect import bisect_left, bisect_right\n",
    "\n",
    "#값이 [left_value, right_value]인 데이터의 개수를 반환하는 함수\n",
    "def count_by_range(a, left_value, right_value):\n",
    "    right_index = bisect_right(a, right_value)\n",
    "    left_index = bisect_left(a, left_value)\n",
    "    return right_index - left_index\n",
    "\n",
    "#리스트 선언\n",
    "a = [1,2,3,3,3,3,4,4,8,9]\n",
    "\n",
    "#값이 4인 데이터 개수 출력\n",
    "print(count_by_range(a, 4, 4))\n",
    "\n",
    "#값이 [-1,3] 범위에 있는 데이터 개수 출력\n",
    "print(count_by_range(a, -1, 3))"
   ]
  },
  {
   "cell_type": "markdown",
   "metadata": {},
   "source": [
    "# collections\n",
    "collections 에서 유용한 클래스 : deque와 Counter  \n",
    "  \n",
    "파이썬에서는 deque를 사용해 큐를 구현  \n",
    "deque는 리스트 자료형과 다르게 인덱싱, 슬라이싱 등의 기능은 사용 불가\n",
    "  \n",
    "Counter는 등장 횟수를 세는 기능을 제공"
   ]
  },
  {
   "cell_type": "code",
   "execution_count": 70,
   "metadata": {},
   "outputs": [
    {
     "name": "stdout",
     "output_type": "stream",
     "text": [
      "deque([1, 2, 3, 4, 5])\n",
      "[1, 2, 3, 4, 5]\n"
     ]
    }
   ],
   "source": [
    "from collections import deque\n",
    "\n",
    "data = deque([2,3,4])\n",
    "data.appendleft(1)\n",
    "data.append(5)\n",
    "\n",
    "print(data)\n",
    "print(list(data)) #리스트 자료형으로 변환"
   ]
  },
  {
   "cell_type": "code",
   "execution_count": 71,
   "metadata": {
    "scrolled": true
   },
   "outputs": [
    {
     "name": "stdout",
     "output_type": "stream",
     "text": [
      "3\n",
      "1\n",
      "{'red': 2, 'blue': 3, 'green': 1}\n"
     ]
    }
   ],
   "source": [
    "from collections import Counter\n",
    "\n",
    "counter = Counter(['red','blue','red','green','blue','blue'])\n",
    "\n",
    "print(counter['blue']) #'blue'가 등장한 횟수 출력\n",
    "print(counter['green']) #'green'이 등장한 횟수 출력\n",
    "print(dict(counter)) #사전 자료형으로 변환"
   ]
  },
  {
   "cell_type": "markdown",
   "metadata": {},
   "source": [
    "# math\n"
   ]
  },
  {
   "cell_type": "code",
   "execution_count": 72,
   "metadata": {},
   "outputs": [
    {
     "name": "stdout",
     "output_type": "stream",
     "text": [
      "120\n"
     ]
    }
   ],
   "source": [
    "import math\n",
    "print(math.factorial(5)) #5 팩토리얼을 출력"
   ]
  },
  {
   "cell_type": "code",
   "execution_count": 74,
   "metadata": {},
   "outputs": [
    {
     "name": "stdout",
     "output_type": "stream",
     "text": [
      "2.6457513110645907\n"
     ]
    }
   ],
   "source": [
    "import math\n",
    "print(math.sqrt(7)) #7의 제곱근을 출력"
   ]
  },
  {
   "cell_type": "code",
   "execution_count": 73,
   "metadata": {
    "scrolled": true
   },
   "outputs": [
    {
     "name": "stdout",
     "output_type": "stream",
     "text": [
      "7\n"
     ]
    }
   ],
   "source": [
    "import math\n",
    "print(math.gcd(21,14)) #21과 14의 최대공약수 출력"
   ]
  },
  {
   "cell_type": "code",
   "execution_count": 75,
   "metadata": {},
   "outputs": [
    {
     "name": "stdout",
     "output_type": "stream",
     "text": [
      "3.141592653589793\n",
      "2.718281828459045\n"
     ]
    }
   ],
   "source": [
    "import math\n",
    "print(math.pi) #파이(pi) 출력\n",
    "print(math.e) #자연상수 e출력"
   ]
  }
 ],
 "metadata": {
  "kernelspec": {
   "display_name": "Python 3",
   "language": "python",
   "name": "python3"
  },
  "language_info": {
   "codemirror_mode": {
    "name": "ipython",
    "version": 3
   },
   "file_extension": ".py",
   "mimetype": "text/x-python",
   "name": "python",
   "nbconvert_exporter": "python",
   "pygments_lexer": "ipython3",
   "version": "3.8.5"
  }
 },
 "nbformat": 4,
 "nbformat_minor": 4
}
