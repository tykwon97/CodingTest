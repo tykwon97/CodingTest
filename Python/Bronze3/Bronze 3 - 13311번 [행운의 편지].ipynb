{
 "cells": [
  {
   "cell_type": "code",
   "execution_count": 15,
   "metadata": {},
   "outputs": [
    {
     "name": "stdout",
     "output_type": "stream",
     "text": [
      "2\n",
      "3\n",
      "4\n",
      "5\n",
      "6\n",
      "7\n",
      "8\n",
      "9\n",
      "10\n",
      "11\n",
      "12\n",
      "13\n",
      "14\n",
      "15\n",
      "16\n",
      "17\n",
      "18\n",
      "19\n",
      "20\n",
      "21\n",
      "22\n",
      "23\n",
      "24\n",
      "25\n",
      "26\n",
      "27\n",
      "28\n",
      "29\n"
     ]
    }
   ],
   "source": [
    "# 2부터 1000까지의 자연수 a에 대하여, n ≡ a-1 (mod a)인 정수 n을 구하여라.\n",
    "# 첫 번째 줄에 432자리 이내의 숫자 n을 출력한다.\n",
    "\n",
    "# n=1 (mod 2), n=2 (mod 3), ..., n=999 (mod 1000)\n",
    "# 의 999개 식을 동시에 만족하는 정수 n을 구하라는 뜻입니다.\n",
    "\n",
    "n = 1\n",
    "# while(True):\n",
    "#     print(n)\n",
    "#     for i in range(2,1001):\n",
    "#         if(n%i != i-1):\n",
    "#             n += 1\n",
    "#             break\n",
    "# print(n)\n",
    "\n",
    "n = -1\n",
    "\n",
    "for i in range(2,30):\n",
    "    print(n&i)"
   ]
  },
  {
   "cell_type": "code",
   "execution_count": null,
   "metadata": {},
   "outputs": [],
   "source": []
  },
  {
   "cell_type": "code",
   "execution_count": null,
   "metadata": {},
   "outputs": [],
   "source": []
  }
 ],
 "metadata": {
  "kernelspec": {
   "display_name": "Python 3",
   "language": "python",
   "name": "python3"
  },
  "language_info": {
   "codemirror_mode": {
    "name": "ipython",
    "version": 3
   },
   "file_extension": ".py",
   "mimetype": "text/x-python",
   "name": "python",
   "nbconvert_exporter": "python",
   "pygments_lexer": "ipython3",
   "version": "3.8.5"
  }
 },
 "nbformat": 4,
 "nbformat_minor": 4
}
