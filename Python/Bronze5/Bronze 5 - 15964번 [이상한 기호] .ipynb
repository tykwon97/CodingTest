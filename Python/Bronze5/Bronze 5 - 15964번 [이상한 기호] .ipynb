{
 "cells": [
  {
   "cell_type": "code",
   "execution_count": 2,
   "metadata": {},
   "outputs": [
    {
     "name": "stdout",
     "output_type": "stream",
     "text": [
      "4 3\n",
      "7\n"
     ]
    }
   ],
   "source": [
    "# 연산자의 기호는 ＠으로, A＠B = (A+B)×(A-B)\n",
    "a,b = map(int,input().split())\n",
    "print( (a+b) * (a-b))"
   ]
  },
  {
   "cell_type": "code",
   "execution_count": 4,
   "metadata": {},
   "outputs": [
    {
     "name": "stdout",
     "output_type": "stream",
     "text": [
      "4 3\n",
      "7\n"
     ]
    }
   ],
   "source": [
    "#다른 방법 (식을 스스로 계산하자)\n",
    "a,b=map(int,input().split())\n",
    "print(a*a-b*b)"
   ]
  }
 ],
 "metadata": {
  "kernelspec": {
   "display_name": "Python 3",
   "language": "python",
   "name": "python3"
  },
  "language_info": {
   "codemirror_mode": {
    "name": "ipython",
    "version": 3
   },
   "file_extension": ".py",
   "mimetype": "text/x-python",
   "name": "python",
   "nbconvert_exporter": "python",
   "pygments_lexer": "ipython3",
   "version": "3.8.5"
  }
 },
 "nbformat": 4,
 "nbformat_minor": 4
}
