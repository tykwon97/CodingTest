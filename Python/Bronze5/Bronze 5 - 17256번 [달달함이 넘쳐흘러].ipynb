{
 "cells": [
  {
   "cell_type": "code",
   "execution_count": 10,
   "metadata": {},
   "outputs": [
    {
     "name": "stdout",
     "output_type": "stream",
     "text": [
      "15 16 17\n",
      "19 32 90\n",
      "2 2 75\n"
     ]
    }
   ],
   "source": [
    "# a 🍰 b = (a.z + b.x, a.y × b.y, a.x + b.z) \n",
    "# a 🍰 b = c\n",
    "\n",
    "#첫째 줄에 케이크 수 a를 구성하는 자연수 a.x, a.y, a.z 가 차례대로 주어진다. (1 ≤ a.x, a.y, a.z ≤ 100)\n",
    "#둘째 줄에 케이크 수 c를 구성하는 자연수 c.x, c.y, c.z 가 차례대로 주어진다. (1 ≤ c.x, c.y, c.z ≤ 100)\n",
    "\n",
    "a = list(map(int, input().split()))\n",
    "c = list(map(int, input().split()))\n",
    "\n",
    "# a.z + b.x = a[2]+b[0] = c[0]\n",
    "# a.y * b.y = a[1]*b[1] = c[1]\n",
    "# a.x + b.z = a[0]+b[2] = c[2]\n",
    "# b[0] =  c[0] - a[2]\n",
    "# b[1] =  c[1] // a[1]\n",
    "# b[2] =  c[2] - a[0]\n",
    "print(c[0] - a[2], c[1] // a[1], c[2] - a[0])"
   ]
  }
 ],
 "metadata": {
  "kernelspec": {
   "display_name": "Python 3",
   "language": "python",
   "name": "python3"
  },
  "language_info": {
   "codemirror_mode": {
    "name": "ipython",
    "version": 3
   },
   "file_extension": ".py",
   "mimetype": "text/x-python",
   "name": "python",
   "nbconvert_exporter": "python",
   "pygments_lexer": "ipython3",
   "version": "3.8.5"
  }
 },
 "nbformat": 4,
 "nbformat_minor": 4
}
