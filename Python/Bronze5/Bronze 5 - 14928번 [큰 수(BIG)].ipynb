{
 "cells": [
  {
   "cell_type": "code",
   "execution_count": 3,
   "metadata": {},
   "outputs": [
    {
     "name": "stdout",
     "output_type": "stream",
     "text": [
      "123456789123456789123456789123456789123456789123456789123456789123456789\n",
      "1313652\n",
      "time : 0.400928258895874\n"
     ]
    }
   ],
   "source": [
    "#입력 : 첫째 줄에 제연이가 가장 좋아하는 수 N이 주어진다. (N ≤ 101,000,000)\n",
    "#출력 : N을 20000303으로 나눈 나머지를 출력한다.\n",
    "#시간제한 : 2초\n",
    "\n",
    "import time\n",
    "start = time.time()  # 시작 시간 저장\n",
    " \n",
    "print(int(input())%20000303)\n",
    "\n",
    "print(\"time :\", time.time() - start)  # 현재시각 - 시작시간 = 실행 시간"
   ]
  },
  {
   "cell_type": "code",
   "execution_count": 4,
   "metadata": {},
   "outputs": [
    {
     "name": "stdout",
     "output_type": "stream",
     "text": [
      "123456789123456789123456789123456789123456789123456789123456789123456789\n",
      "1313652\n"
     ]
    }
   ],
   "source": [
    "#큰 수 계산 \n",
    "\n",
    "from decimal import Decimal, getcontext\n",
    "getcontext().prec = 1_000_007\n",
    "m = Decimal(input()) % Decimal(20000303)\n",
    "print(m)"
   ]
  },
  {
   "cell_type": "code",
   "execution_count": 6,
   "metadata": {},
   "outputs": [
    {
     "name": "stdout",
     "output_type": "stream",
     "text": [
      "123456789123456789123456789123456789123456789123456789123456789123456789\n",
      "1313652\n",
      "time : 0.001993894577026367\n",
      "1313652\n",
      "time : 0.000995635986328125\n"
     ]
    }
   ],
   "source": [
    "#시간 비교\n",
    "import time\n",
    "\n",
    "num = input()\n",
    "\n",
    "start = time.time()  # 시작 시간 저장\n",
    " \n",
    "print(int(num)%20000303)\n",
    "\n",
    "print(\"time :\", time.time() - start)  # 현재시각 - 시작시간 = 실행 시간\n",
    "\n",
    "start1 = time.time()  # 시작 시간 저장\n",
    " \n",
    "from decimal import Decimal, getcontext\n",
    "getcontext().prec = 1_000_007\n",
    "m = Decimal(num) % Decimal(20000303)\n",
    "print(m)\n",
    "\n",
    "print(\"time :\", time.time() - start1)  # 현재시각 - 시작시간 = 실행 시간"
   ]
  }
 ],
 "metadata": {
  "kernelspec": {
   "display_name": "Python 3",
   "language": "python",
   "name": "python3"
  },
  "language_info": {
   "codemirror_mode": {
    "name": "ipython",
    "version": 3
   },
   "file_extension": ".py",
   "mimetype": "text/x-python",
   "name": "python",
   "nbconvert_exporter": "python",
   "pygments_lexer": "ipython3",
   "version": "3.8.5"
  }
 },
 "nbformat": 4,
 "nbformat_minor": 4
}
