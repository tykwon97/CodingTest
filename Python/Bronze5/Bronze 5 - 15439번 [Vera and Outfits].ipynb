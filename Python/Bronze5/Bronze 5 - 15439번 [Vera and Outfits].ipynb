{
 "cells": [
  {
   "cell_type": "code",
   "execution_count": 1,
   "metadata": {},
   "outputs": [
    {
     "name": "stdout",
     "output_type": "stream",
     "text": [
      "5\n",
      "20\n"
     ]
    }
   ],
   "source": [
    "'''\n",
    "문제 : Vera는 N 상의와 N 바지를 소유하고 있습니다. \n",
    "i번째 상의와 i번째 바지는 1 ≤ i ≤ N에 대해 색상 i를 가지며, 여기서 모든 N 색상은 서로 다릅니다. \n",
    "의상은 상의 1개와 바지 1개로 구성되어 있습니다. \n",
    "베라는 상의와 바지가 같은 색이 아닌 옷을 좋아한다. 그녀는 얼마나 많은 다른 의상을 좋아합니까?\n",
    "'''\n",
    "\n",
    "n = int(input())\n",
    "print(n*(n-1))"
   ]
  }
 ],
 "metadata": {
  "kernelspec": {
   "display_name": "Python 3",
   "language": "python",
   "name": "python3"
  },
  "language_info": {
   "codemirror_mode": {
    "name": "ipython",
    "version": 3
   },
   "file_extension": ".py",
   "mimetype": "text/x-python",
   "name": "python",
   "nbconvert_exporter": "python",
   "pygments_lexer": "ipython3",
   "version": "3.8.5"
  }
 },
 "nbformat": 4,
 "nbformat_minor": 4
}
