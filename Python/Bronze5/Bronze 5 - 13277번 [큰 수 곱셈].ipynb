{
 "cells": [
  {
   "cell_type": "code",
   "execution_count": 6,
   "metadata": {
    "scrolled": true
   },
   "outputs": [
    {
     "name": "stdout",
     "output_type": "stream",
     "text": [
      "893724358493284 238947328947329\n",
      "213553048277135320552236238436\n",
      "time : 0.6163480281829834\n"
     ]
    }
   ],
   "source": [
    "#기존에는 시간제한으로 통과하지 못하야함 따라서 다른 방법이 필요\n",
    "\n",
    "import time\n",
    "start = time.time()  # 시작 시간 저장\n",
    " \n",
    "a,b = map(int,input().split())\n",
    "print(a*b)\n",
    "\n",
    "print(\"time :\", time.time() - start)  # 현재시각 - 시작시간 = 실행 시간"
   ]
  },
  {
   "cell_type": "code",
   "execution_count": 7,
   "metadata": {},
   "outputs": [
    {
     "name": "stdout",
     "output_type": "stream",
     "text": [
      "893724358493284 238947328947329\n",
      "213553048277135320552236238436\n",
      "time : 0.4898059368133545\n"
     ]
    }
   ],
   "source": [
    "#다른 사람 방법1 (큰 수 곱셈 방법)\n",
    "\n",
    "import time\n",
    "start = time.time()  # 시작 시간 저장\n",
    " \n",
    "from decimal import Decimal,getcontext;getcontext().prec=10**6\n",
    "A,B=map(Decimal,input().split())\n",
    "print(format(A*B,'f'))\n",
    "\n",
    "print(\"time :\", time.time() - start)  # 현재시각 - 시작시간 = 실행 시간"
   ]
  },
  {
   "cell_type": "code",
   "execution_count": 8,
   "metadata": {},
   "outputs": [
    {
     "name": "stdout",
     "output_type": "stream",
     "text": [
      "893724358493284 238947328947329\n",
      "213553048277135320552236238436\n",
      "time : 0.5415942668914795\n"
     ]
    }
   ],
   "source": [
    "#다른 사람 방법2\n",
    "\n",
    "import time\n",
    "start = time.time()  # 시작 시간 저장\n",
    " \n",
    "from decimal import Decimal as d, getcontext, setcontext\n",
    "c = getcontext()\n",
    "c.prec = 600007\n",
    "setcontext(c)\n",
    "a, b = map(d, input().split())\n",
    "print(a*b)\n",
    "\n",
    "print(\"time :\", time.time() - start)  # 현재시각 - 시작시간 = 실행 시간"
   ]
  }
 ],
 "metadata": {
  "kernelspec": {
   "display_name": "Python 3",
   "language": "python",
   "name": "python3"
  },
  "language_info": {
   "codemirror_mode": {
    "name": "ipython",
    "version": 3
   },
   "file_extension": ".py",
   "mimetype": "text/x-python",
   "name": "python",
   "nbconvert_exporter": "python",
   "pygments_lexer": "ipython3",
   "version": "3.8.5"
  }
 },
 "nbformat": 4,
 "nbformat_minor": 4
}
