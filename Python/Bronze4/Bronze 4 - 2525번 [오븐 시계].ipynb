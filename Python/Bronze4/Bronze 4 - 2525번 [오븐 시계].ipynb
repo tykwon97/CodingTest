{
 "cells": [
  {
   "cell_type": "code",
   "execution_count": 6,
   "metadata": {},
   "outputs": [
    {
     "name": "stdout",
     "output_type": "stream",
     "text": [
      "23 48\n",
      "25\n",
      "0 13\n"
     ]
    }
   ],
   "source": [
    "hour,minute = map(int,input().split())\n",
    "runtime = int(input())\n",
    "hour += (minute+runtime)//60\n",
    "minute = (minute+runtime)%60\n",
    "if(hour>=24):\n",
    "    hour -= 24\n",
    "print(hour , minute)"
   ]
  },
  {
   "cell_type": "code",
   "execution_count": 7,
   "metadata": {},
   "outputs": [
    {
     "name": "stdout",
     "output_type": "stream",
     "text": [
      "23 48\n",
      "25\n",
      "0 13\n"
     ]
    }
   ],
   "source": [
    "#다른 사람 코드\n",
    "#if() 사용하지 않고 %24를 사용하면 된다!!\n",
    "h,m=map(int,input().split())\n",
    "t=h*60+m+int(input())\n",
    "print(t//60%24,t%60)"
   ]
  }
 ],
 "metadata": {
  "kernelspec": {
   "display_name": "Python 3",
   "language": "python",
   "name": "python3"
  },
  "language_info": {
   "codemirror_mode": {
    "name": "ipython",
    "version": 3
   },
   "file_extension": ".py",
   "mimetype": "text/x-python",
   "name": "python",
   "nbconvert_exporter": "python",
   "pygments_lexer": "ipython3",
   "version": "3.8.5"
  }
 },
 "nbformat": 4,
 "nbformat_minor": 4
}
