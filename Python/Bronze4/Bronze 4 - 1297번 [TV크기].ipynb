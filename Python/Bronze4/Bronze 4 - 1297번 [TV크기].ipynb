{
 "cells": [
  {
   "cell_type": "code",
   "execution_count": 9,
   "metadata": {},
   "outputs": [
    {
     "name": "stdout",
     "output_type": "stream",
     "text": [
      "11 15 16\n",
      "7 8\n"
     ]
    }
   ],
   "source": [
    "# 입력 : 첫째 줄에 TV의 대각선 길이 D, TV의 높이 비율 H, TV의 너비 비율 W이 공백 한 칸을 사이에 두고 주어진다.\n",
    "# 출력 : 첫째 줄에 TV의 높이와 TV의 너비를 공백 한 칸을 이용해서 구분지은 후 출력한다. \n",
    "# 만약, 실제 TV의 높이나 너비가 소수점이 나올 경우에는 그 수보다 작으면서 가장 큰 정수로 출력한다. (예) 1.7 -> 1\n",
    "d,h,w = map(int,input().split())\n",
    "#d^2 = (h^2+w^2)*a^2\n",
    "#a^2 = d^2 / (h^2 + w^2)\n",
    "import math\n",
    "a = math.sqrt(d**2 / (h**2 + w**2))\n",
    "print(int(h*a), int(w*a))"
   ]
  },
  {
   "cell_type": "code",
   "execution_count": 10,
   "metadata": {},
   "outputs": [
    {
     "name": "stdout",
     "output_type": "stream",
     "text": [
      "11 15 16\n",
      "7 8\n"
     ]
    }
   ],
   "source": [
    "#다른 사람 코드1\n",
    "d, h, w = map(int, input().split())\n",
    "hw = (h**2+w**2)**0.5\n",
    "print(int(d*h/hw+1e-9),int(d*w/hw+1e-9))"
   ]
  },
  {
   "cell_type": "code",
   "execution_count": 11,
   "metadata": {},
   "outputs": [
    {
     "name": "stdout",
     "output_type": "stream",
     "text": [
      "11 15 16\n",
      "7 8\n"
     ]
    }
   ],
   "source": [
    "#다른 사람 코드2\n",
    "a,b,c = map(int,input().split())\n",
    "r = a/(b**2+c**2)**0.5\n",
    "print(int(b*r),int(c*r))"
   ]
  }
 ],
 "metadata": {
  "kernelspec": {
   "display_name": "Python 3",
   "language": "python",
   "name": "python3"
  },
  "language_info": {
   "codemirror_mode": {
    "name": "ipython",
    "version": 3
   },
   "file_extension": ".py",
   "mimetype": "text/x-python",
   "name": "python",
   "nbconvert_exporter": "python",
   "pygments_lexer": "ipython3",
   "version": "3.8.5"
  }
 },
 "nbformat": 4,
 "nbformat_minor": 4
}
