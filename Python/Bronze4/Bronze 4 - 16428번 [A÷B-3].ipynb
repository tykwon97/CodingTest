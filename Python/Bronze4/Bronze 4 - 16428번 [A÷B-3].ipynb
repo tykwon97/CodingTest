{
 "cells": [
  {
   "cell_type": "code",
   "execution_count": 11,
   "metadata": {
    "scrolled": true
   },
   "outputs": [
    {
     "name": "stdout",
     "output_type": "stream",
     "text": [
      "-6 -2\n",
      "3\n",
      "0\n"
     ]
    }
   ],
   "source": [
    "#양음, 음음 일때 딱 떨어지는 부분 처리를 못해줌 -> 해결\n",
    "a,b = map(int,input().split())\n",
    "if(a>0 and b>0):#양 양\n",
    "    print(a//b)\n",
    "    print(a%b)\n",
    "elif (a>0 and b<0): #양 음\n",
    "    if(a%b != 0):\n",
    "        print(a//b+1)\n",
    "        print(abs(b) + a%b)\n",
    "    else:\n",
    "        print(a//b)\n",
    "        print(a%b)\n",
    "elif (a<0 and b>0): #음 양\n",
    "    print(a//b)\n",
    "    print(a%b)\n",
    "elif (a<0 and b<0):# 음 음\n",
    "    if(a%b != 0):\n",
    "        print(a//b+1)\n",
    "        print(abs(b) + a%b)\n",
    "    else:\n",
    "        print(a//b)\n",
    "        print(a%b)\n",
    "elif (a==0):\n",
    "    print(\"0\")\n",
    "    print(\"0\")\n",
    "else :\n",
    "    print()\n"
   ]
  },
  {
   "cell_type": "code",
   "execution_count": 48,
   "metadata": {},
   "outputs": [
    {
     "name": "stdout",
     "output_type": "stream",
     "text": [
      "-10 -15\n",
      "1\n",
      "5\n"
     ]
    }
   ],
   "source": [
    "#다른 사람 코드 1\n",
    "a, b = map(int,input().split())\n",
    "c, d = a//b, a%b\n",
    "if a != 0 and d < 0:\n",
    "    c, d = c+1, d-b\n",
    "print(c)\n",
    "print(d)"
   ]
  },
  {
   "cell_type": "code",
   "execution_count": 50,
   "metadata": {},
   "outputs": [
    {
     "name": "stdout",
     "output_type": "stream",
     "text": [
      "-10 -15\n",
      "1\n",
      "5\n"
     ]
    }
   ],
   "source": [
    "#다른 사람 코드 2\n",
    "A,B=map(int,input().split());Q,R=divmod(A,B)\n",
    "if R<0:\n",
    " Q+=1\n",
    " R+=abs(B)\n",
    "print(Q,R,sep='\\n')"
   ]
  }
 ],
 "metadata": {
  "kernelspec": {
   "display_name": "Python 3",
   "language": "python",
   "name": "python3"
  },
  "language_info": {
   "codemirror_mode": {
    "name": "ipython",
    "version": 3
   },
   "file_extension": ".py",
   "mimetype": "text/x-python",
   "name": "python",
   "nbconvert_exporter": "python",
   "pygments_lexer": "ipython3",
   "version": "3.8.5"
  }
 },
 "nbformat": 4,
 "nbformat_minor": 4
}
