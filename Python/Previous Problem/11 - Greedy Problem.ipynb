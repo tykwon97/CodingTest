{
 "cells": [
  {
   "cell_type": "code",
   "execution_count": 24,
   "metadata": {},
   "outputs": [
    {
     "name": "stdout",
     "output_type": "stream",
     "text": [
      "5\n",
      "2 3 1 2 2\n",
      "\n",
      "2\n"
     ]
    }
   ],
   "source": [
    "# 1 - 모험가 길드\n",
    "n = int(input())\n",
    "array = list(map(int,input().split()))\n",
    "array.sort()\n",
    "array.reverse()\n",
    "\n",
    "max_result = 0\n",
    "    \n",
    "for i in range(len(array)):\n",
    "    result = 0\n",
    "    count  = i\n",
    "    while(count < len(array)):\n",
    "        count = count + array[count]\n",
    "        result += 1\n",
    "    max_result = max(max_result,result)\n",
    "    \n",
    "print()\n",
    "print(max_result)"
   ]
  },
  {
   "cell_type": "code",
   "execution_count": 37,
   "metadata": {},
   "outputs": [
    {
     "name": "stdout",
     "output_type": "stream",
     "text": [
      "5607\n",
      "210\n"
     ]
    }
   ],
   "source": [
    "# 2 - 곱하기 혹은 더하기\n",
    "user_input = list(input())\n",
    "result = 0\n",
    "for x in user_input:\n",
    "    x = int(x)\n",
    "    if(result == 0 or x == 0):\n",
    "        result += x\n",
    "    else:\n",
    "        result *= x\n",
    "        \n",
    "print(result)"
   ]
  },
  {
   "cell_type": "code",
   "execution_count": 60,
   "metadata": {},
   "outputs": [
    {
     "name": "stdout",
     "output_type": "stream",
     "text": [
      "0001100\n",
      "1\n"
     ]
    }
   ],
   "source": [
    "# 3 - 문자열 뒤집기\n",
    "user_input = list(input())\n",
    "size = len(user_input)\n",
    "count_0 = 0\n",
    "count_1 = 0\n",
    "\n",
    "if(user_input[0] == \"0\"):\n",
    "    count_0 += 1\n",
    "else:\n",
    "    count_1 += 1\n",
    "\n",
    "for i in range(1, size):\n",
    "    if(user_input[i] == \"0\"):\n",
    "        if(user_input[i-1] != \"0\"):\n",
    "            count_0 += 1\n",
    "    else:\n",
    "        if(user_input[i-1] != \"1\"):\n",
    "            count_1 += 1\n",
    "\n",
    "print(min(count_0, count_1))"
   ]
  },
  {
   "cell_type": "code",
   "execution_count": 50,
   "metadata": {
    "scrolled": true
   },
   "outputs": [
    {
     "name": "stdout",
     "output_type": "stream",
     "text": [
      "3\n",
      "1 1 2 3 9\n",
      "1번 0 1 0\n",
      "1번 1 1 1\n",
      "2번 0 1 0 -1\n",
      "1번 1 1 0\n",
      "1번 2 1 1\n",
      "2번 1 1 0 -1\n",
      "1번 2 1 0\n",
      "1번 3 1 2\n",
      "1번 4 1 5\n",
      "1번 5 1 14\n",
      "2번 4 1 5 14\n",
      "2번 3 1 2 14\n",
      "2번 2 1 0 14\n",
      "3번 1 1 0 14\n",
      "3번 0 1 0 14\n",
      "15\n"
     ]
    }
   ],
   "source": [
    "# 4 - 만들수 없는 금액 -> 아직 못 품\n",
    "n = int(input())\n",
    "user_input = list(map(int,input().split()))\n",
    "sum_total = sum(user_input)\n",
    "user_input.sort()\n",
    "\n",
    "#1 1 2 3 9\n",
    "#3 5 7\n",
    "\n",
    "count = 1\n",
    "\n",
    "\n",
    "def money(i,target,total):\n",
    "    print(\"1번\",i,target,total)\n",
    "    if(i == len(user_input)):\n",
    "        return total\n",
    "    if(target == total):\n",
    "        return -1\n",
    "    a = money(i+1,target,total + user_input[i])\n",
    "    \n",
    "    print(\"2번\",i,target,total,a)\n",
    "    if(a != -1):\n",
    "        return a\n",
    "    b = money(i+1,target,total)\n",
    "    \n",
    "    print(\"3번\",i,target,total,b)\n",
    "    if(b != -1):\n",
    "        return b\n",
    "    return -1\n",
    "    \n",
    "#0 1 0\n",
    "\n",
    "#1 1 1\n",
    "#1 1 0\n",
    "\n",
    "while(True):\n",
    "    total = 0\n",
    "    a = money(0,count,total) #(배열순서, 목표값, 총 합)\n",
    "    count += 1\n",
    "    if(a != -1):\n",
    "        break\n",
    "        \n",
    "print(a+1)\n",
    "        \n",
    "    \n",
    "\n",
    "    "
   ]
  },
  {
   "cell_type": "code",
   "execution_count": 81,
   "metadata": {},
   "outputs": [
    {
     "name": "stdout",
     "output_type": "stream",
     "text": [
      "8 5\n",
      "1 5 4 3 2 4 5 2\n",
      "25\n"
     ]
    }
   ],
   "source": [
    "# 5 - 볼링공 고르기\n",
    "n,m = map(int,input().split())\n",
    "user_input = list(map(int,input().split()))\n",
    "size = len(user_input)\n",
    "\n",
    "count = 0\n",
    "\n",
    "for x in range(size):\n",
    "    for y in range(x,size):\n",
    "        if(user_input[x] != user_input[y]):\n",
    "            count += 1\n",
    "            \n",
    "print(count)"
   ]
  },
  {
   "cell_type": "markdown",
   "metadata": {},
   "source": [
    "### 6 - 무지의 먹방 라이브  \n",
    "링크를 통해 문제 품  \n",
    "https://programmers.co.kr/learn/courses/30/lessons/42891?language=python3"
   ]
  },
  {
   "cell_type": "code",
   "execution_count": 96,
   "metadata": {},
   "outputs": [
    {
     "data": {
      "text/plain": [
       "1"
      ]
     },
     "execution_count": 96,
     "metadata": {},
     "output_type": "execute_result"
    }
   ],
   "source": [
    "# 정답 알고리즘 (100점)\n",
    "def solution(food_times, k):\n",
    "    count = len(food_times)\n",
    "    answer = 0 \n",
    "    \n",
    "    if(sum(food_times) <= k):\n",
    "        return -1\n",
    "    \n",
    "    min_value = min(food_times)\n",
    "    \n",
    "    if(min_value*count >= k): #food_times의 최소값이 k보다 큰 경우\n",
    "        answer = k % count\n",
    "        while(food_times[answer] - k//count == 0):\n",
    "                answer = (answer+1) % count\n",
    "        return answer+1\n",
    "        \n",
    "    else: #food_tiems의 최소값이 k보다 작은 경우\n",
    "        notZero = count\n",
    "        while(k > notZero):  \n",
    "            div_value = k // notZero\n",
    "            k %= notZero\n",
    "            add_value = 0 #0보다 작아져서 더해줘야되는 값\n",
    "            for i in range(count):\n",
    "                if(food_times[i] != 0):\n",
    "                    food_times[i] -= div_value\n",
    "                if(food_times[i] < 0):\n",
    "                    add_value -= food_times[i]\n",
    "                    food_times[i] = 0\n",
    "            k += add_value\n",
    "            \n",
    "            notZero = 0 #0이 아닌 개수\n",
    "            for x in food_times:\n",
    "                if(x != 0):\n",
    "                    notZero += 1\n",
    "                    \n",
    "        for i in range(k):\n",
    "            while(food_times[answer] == 0):\n",
    "                answer = (answer+1) % count\n",
    "            answer = (answer+1) % count\n",
    "            while(food_times[answer] == 0):\n",
    "                answer = (answer+1) % count\n",
    "        return answer+1\n",
    "    \n",
    "    return -1\n",
    "\n",
    "a = [3,1,2]\n",
    "solution(a,5)"
   ]
  },
  {
   "cell_type": "code",
   "execution_count": 97,
   "metadata": {},
   "outputs": [
    {
     "data": {
      "text/plain": [
       "1"
      ]
     },
     "execution_count": 97,
     "metadata": {},
     "output_type": "execute_result"
    }
   ],
   "source": [
    "#정답은 맞으나 효율성이 떨어진 알고리즘(50점)\n",
    "def solution(food_times, k):\n",
    "    count = len(food_times)\n",
    "    answer = 0 \n",
    "    \n",
    "    if(sum(food_times) == k):\n",
    "        return -1\n",
    "    \n",
    "    \n",
    "    min_value = min(food_times)\n",
    "    \n",
    "    if(min_value*count >= k): #food_times의 최소값이 k보다 큰 경우\n",
    "        answer = k % count\n",
    "        for i in range(count):\n",
    "            food_times[i] -= k//count\n",
    "        while(food_times[answer] == 0):\n",
    "                answer = (answer+1) % count\n",
    "        return answer+1\n",
    "        \n",
    "    else: #food_tiems의 최소값이 k보다 작은 경우\n",
    "        while(k):\n",
    "            if(sum(food_times) == 0): #모두 0인 경우\n",
    "                return -1\n",
    "            \n",
    "            notZero = 0 #0이 아닌 개수\n",
    "            for x in food_times:\n",
    "                if(x != 0):\n",
    "                    notZero += 1\n",
    "                    \n",
    "            if(k<=notZero):\n",
    "                while(food_times[answer] == 0):\n",
    "                        answer = (answer+1) % count\n",
    "                for _ in range(k):\n",
    "                    while(food_times[answer] == 0):\n",
    "                        answer = (answer+1) % count\n",
    "                    answer = (answer+1) % count\n",
    "                    while(food_times[answer] == 0):\n",
    "                        answer = (answer+1) % count\n",
    "                return answer+1\n",
    "                    \n",
    "            min_value = int(1e9)+1\n",
    "            for x in food_times:\n",
    "                if(x != 0 and x<min_value):\n",
    "                    min_value = x\n",
    "            \n",
    "            div_value = k//notZero\n",
    "            \n",
    "            if(min_value >= div_value):\n",
    "                k -= (div_value * notZero)\n",
    "                for i in range(count):\n",
    "                    if(food_times[i]!= 0):\n",
    "                        food_times[i] -= div_value\n",
    "            else:\n",
    "                k -= (min_value * notZero)\n",
    "                for i in range(count):\n",
    "                    if(food_times[i]!= 0):\n",
    "                        food_times[i] -= min_value\n",
    "            \n",
    "        while(food_times[answer] == 0):\n",
    "            answer = (answer+1) % count\n",
    "        return answer+1\n",
    "    \n",
    "    return -1\n",
    "\n",
    "a = [3,1,2]\n",
    "solution(a,5)"
   ]
  }
 ],
 "metadata": {
  "kernelspec": {
   "display_name": "Python 3",
   "language": "python",
   "name": "python3"
  },
  "language_info": {
   "codemirror_mode": {
    "name": "ipython",
    "version": 3
   },
   "file_extension": ".py",
   "mimetype": "text/x-python",
   "name": "python",
   "nbconvert_exporter": "python",
   "pygments_lexer": "ipython3",
   "version": "3.8.5"
  }
 },
 "nbformat": 4,
 "nbformat_minor": 4
}
