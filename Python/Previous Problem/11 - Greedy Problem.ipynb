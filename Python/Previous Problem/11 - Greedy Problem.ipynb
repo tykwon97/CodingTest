{
 "cells": [
  {
   "cell_type": "code",
   "execution_count": 24,
   "metadata": {},
   "outputs": [
    {
     "name": "stdout",
     "output_type": "stream",
     "text": [
      "5\n",
      "2 3 1 2 2\n",
      "\n",
      "2\n"
     ]
    }
   ],
   "source": [
    "# 1 - 모험가 길드\n",
    "n = int(input())\n",
    "array = list(map(int,input().split()))\n",
    "array.sort()\n",
    "array.reverse()\n",
    "\n",
    "max_result = 0\n",
    "    \n",
    "for i in range(len(array)):\n",
    "    result = 0\n",
    "    count  = i\n",
    "    while(count < len(array)):\n",
    "        count = count + array[count]\n",
    "        result += 1\n",
    "    max_result = max(max_result,result)\n",
    "    \n",
    "print()\n",
    "print(max_result)"
   ]
  },
  {
   "cell_type": "code",
   "execution_count": 37,
   "metadata": {},
   "outputs": [
    {
     "name": "stdout",
     "output_type": "stream",
     "text": [
      "5607\n",
      "210\n"
     ]
    }
   ],
   "source": [
    "# 2 - 곱하기 혹은 더하기\n",
    "user_input = list(input())\n",
    "result = 0\n",
    "for x in user_input:\n",
    "    x = int(x)\n",
    "    if(result == 0 or x == 0):\n",
    "        result += x\n",
    "    else:\n",
    "        result *= x\n",
    "        \n",
    "print(result)"
   ]
  },
  {
   "cell_type": "code",
   "execution_count": 60,
   "metadata": {},
   "outputs": [
    {
     "name": "stdout",
     "output_type": "stream",
     "text": [
      "0001100\n",
      "1\n"
     ]
    }
   ],
   "source": [
    "# 3 - 문자열 뒤집기\n",
    "user_input = list(input())\n",
    "size = len(user_input)\n",
    "count_0 = 0\n",
    "count_1 = 0\n",
    "\n",
    "if(user_input[0] == \"0\"):\n",
    "    count_0 += 1\n",
    "else:\n",
    "    count_1 += 1\n",
    "\n",
    "for i in range(1, size):\n",
    "    if(user_input[i] == \"0\"):\n",
    "        if(user_input[i-1] != \"0\"):\n",
    "            count_0 += 1\n",
    "    else:\n",
    "        if(user_input[i-1] != \"1\"):\n",
    "            count_1 += 1\n",
    "\n",
    "print(min(count_0, count_1))"
   ]
  },
  {
   "cell_type": "code",
   "execution_count": 82,
   "metadata": {
    "scrolled": true
   },
   "outputs": [
    {
     "ename": "SyntaxError",
     "evalue": "invalid syntax (<ipython-input-82-7ddc712b226d>, line 15)",
     "output_type": "error",
     "traceback": [
      "\u001b[1;36m  File \u001b[1;32m\"<ipython-input-82-7ddc712b226d>\"\u001b[1;36m, line \u001b[1;32m15\u001b[0m\n\u001b[1;33m    if(result >= x)\u001b[0m\n\u001b[1;37m                   ^\u001b[0m\n\u001b[1;31mSyntaxError\u001b[0m\u001b[1;31m:\u001b[0m invalid syntax\n"
     ]
    }
   ],
   "source": [
    "# 4 - 만들수 없는 금액 -> 아직 못 품\n",
    "n = int(input())\n",
    "user_input = list(map(int,input().split()))\n",
    "\n",
    "user_input.sort()\n",
    "user_input.reverse()\n",
    "\n",
    "count = 1\n",
    "\n",
    "while(count < sum(user_input)):\n",
    "    print(count)\n",
    "    result = count\n",
    "    \n",
    "    for x in user_input:\n",
    "        if(result >= x):\n",
    "            result -= x\n",
    "    "
   ]
  },
  {
   "cell_type": "code",
   "execution_count": 81,
   "metadata": {},
   "outputs": [
    {
     "name": "stdout",
     "output_type": "stream",
     "text": [
      "8 5\n",
      "1 5 4 3 2 4 5 2\n",
      "25\n"
     ]
    }
   ],
   "source": [
    "# 5 - 볼링공 고르기\n",
    "n,m = map(int,input().split())\n",
    "user_input = list(map(int,input().split()))\n",
    "size = len(user_input)\n",
    "\n",
    "count = 0\n",
    "\n",
    "for x in range(size):\n",
    "    for y in range(x,size):\n",
    "        if(user_input[x] != user_input[y]):\n",
    "            count += 1\n",
    "            \n",
    "print(count)"
   ]
  },
  {
   "cell_type": "markdown",
   "metadata": {},
   "source": [
    "### 6 - 무지의 먹방 라이브  \n",
    "링크를 통해 문제 품  \n",
    "https://programmers.co.kr/learn/courses/30/lessons/42891?language=python3"
   ]
  }
 ],
 "metadata": {
  "kernelspec": {
   "display_name": "Python 3",
   "language": "python",
   "name": "python3"
  },
  "language_info": {
   "codemirror_mode": {
    "name": "ipython",
    "version": 3
   },
   "file_extension": ".py",
   "mimetype": "text/x-python",
   "name": "python",
   "nbconvert_exporter": "python",
   "pygments_lexer": "ipython3",
   "version": "3.8.5"
  }
 },
 "nbformat": 4,
 "nbformat_minor": 4
}
