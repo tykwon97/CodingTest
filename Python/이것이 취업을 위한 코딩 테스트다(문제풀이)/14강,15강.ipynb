{
 "cells": [
  {
   "cell_type": "code",
   "execution_count": 5,
   "metadata": {},
   "outputs": [
    {
     "name": "stdout",
     "output_type": "stream",
     "text": [
      "5\n",
      "R R R U D D\n",
      "x =  1  y =  2\n",
      "x =  1  y =  3\n",
      "x =  1  y =  4\n",
      "x =  1  y =  4\n",
      "x =  2  y =  4\n",
      "x =  3  y =  4\n"
     ]
    }
   ],
   "source": [
    "#문제 : 상하좌우\n",
    "\n",
    "count = int(input())\n",
    "direction = list(map(str,input().split()))\n",
    "\n",
    "x=1\n",
    "y=1\n",
    "\n",
    "for i in direction :\n",
    "    if(i == \"R\"):\n",
    "        if(y !=5):\n",
    "            y += 1\n",
    "    elif(i == \"L\"):\n",
    "        if(y != 1):\n",
    "            y -= 1\n",
    "    elif(i == \"U\"):\n",
    "        if(x !=1):\n",
    "            x += 1\n",
    "    elif(i == \"D\"):\n",
    "        if(x != 5): \n",
    "            x += 1\n",
    "    else:\n",
    "        print(\"잘못 입력 했습니다.\")\n",
    "    #print(\"x = \",x,\" y = \",y)   "
   ]
  },
  {
   "cell_type": "code",
   "execution_count": 7,
   "metadata": {
    "scrolled": true
   },
   "outputs": [
    {
     "name": "stdout",
     "output_type": "stream",
     "text": [
      "5\n",
      "R R R U D D\n",
      "2 1\n",
      "3 1\n",
      "3 1\n"
     ]
    }
   ],
   "source": [
    "#N 입력 받기\n",
    "n = int(input())\n",
    "x,y = 1,1\n",
    "plans = input().split()\n",
    "\n",
    "#L,R,U,D에 따른 이동 방향\n",
    "dx = [0,0,-1,1]\n",
    "dy = [-1,1,0,0]\n",
    "move_types = ['L','R','U','D']\n",
    "\n",
    "#이동 계획을 하나씩 확인하기\n",
    "for plan in plans :\n",
    "    #이동 후 좌표 구하기\n",
    "    for i in range(len(move_types)):\n",
    "        if (plan == move_types[i]):\n",
    "            nx = x + dx[i]\n",
    "            ny = y + dy[i]\n",
    "    #공간을 벗어나는 경우 무시\n",
    "    if (nx < 1 or ny < 1 or nx > n or ny > y):\n",
    "        continue\n",
    "    #이동 수행\n",
    "    x,y = nx,ny\n",
    "    print(x,y)\n",
    "print(x,y)"
   ]
  },
  {
   "cell_type": "code",
   "execution_count": null,
   "metadata": {},
   "outputs": [],
   "source": []
  },
  {
   "cell_type": "code",
   "execution_count": 38,
   "metadata": {},
   "outputs": [
    {
     "name": "stdout",
     "output_type": "stream",
     "text": [
      "5\n",
      "11475\n"
     ]
    }
   ],
   "source": [
    "# 시각 : 3이 하나라도 포함된 시간의 갯수\n",
    "#00시00분00초부터 N시 59분59초까지의 모든 시각\n",
    "\n",
    "num = int(input())\n",
    "\n",
    "count = 0 #총 갯수\n",
    "\n",
    "count_3 = 0 #0부터60까지 3이 들어간 갯수\n",
    "\n",
    "for minute in range(10):\n",
    "    if(minute < 10):\n",
    "        if(minute==3):\n",
    "            count_3 += 1\n",
    "            #print(count_3)\n",
    "count_3 *= 5 #0~9 10~19 20~29 40~49 50~59 단위\n",
    "count_3 += 10 #30~39일때\n",
    "\n",
    "#print(count_3)\n",
    "count += count_3 * 60\n",
    "count += (60-count_3) * count_3    \n",
    "#print(count)\n",
    "c = count #00시00분00초부터 00시59분59초\n",
    "\n",
    "if(num == 0):\n",
    "    count = count\n",
    "\n",
    "elif(num>=3):\n",
    "    \n",
    "    count = (num - num//3) * count\n",
    "    #print(count)\n",
    "    count += num//3 * 60 *60\n",
    "    count+=c\n",
    "else :\n",
    "    count = num * count\n",
    "    count+=c\n",
    "    #print(num)\n",
    "print(count)"
   ]
  },
  {
   "cell_type": "code",
   "execution_count": 44,
   "metadata": {},
   "outputs": [
    {
     "name": "stdout",
     "output_type": "stream",
     "text": [
      "5\n"
     ]
    },
    {
     "ename": "TypeError",
     "evalue": "'int' object is not callable",
     "output_type": "error",
     "traceback": [
      "\u001b[1;31m---------------------------------------------------------------------------\u001b[0m",
      "\u001b[1;31mTypeError\u001b[0m                                 Traceback (most recent call last)",
      "\u001b[1;32m<ipython-input-44-3e44bb2ed42b>\u001b[0m in \u001b[0;36m<module>\u001b[1;34m\u001b[0m\n\u001b[0;32m      7\u001b[0m         \u001b[1;32mfor\u001b[0m \u001b[0mk\u001b[0m \u001b[1;32min\u001b[0m \u001b[0mrange\u001b[0m\u001b[1;33m(\u001b[0m\u001b[1;36m60\u001b[0m\u001b[1;33m)\u001b[0m\u001b[1;33m:\u001b[0m\u001b[1;33m\u001b[0m\u001b[1;33m\u001b[0m\u001b[0m\n\u001b[0;32m      8\u001b[0m             \u001b[1;31m# 매 시각 안에 '3'이 포함되어 있다면 카운트 증가\u001b[0m\u001b[1;33m\u001b[0m\u001b[1;33m\u001b[0m\u001b[1;33m\u001b[0m\u001b[0m\n\u001b[1;32m----> 9\u001b[1;33m             \u001b[0mstring\u001b[0m \u001b[1;33m=\u001b[0m \u001b[0mstr\u001b[0m\u001b[1;33m(\u001b[0m\u001b[0mi\u001b[0m\u001b[1;33m)\u001b[0m \u001b[1;33m+\u001b[0m \u001b[0mstr\u001b[0m\u001b[1;33m(\u001b[0m\u001b[0mj\u001b[0m\u001b[1;33m)\u001b[0m \u001b[1;33m+\u001b[0m \u001b[0mstr\u001b[0m\u001b[1;33m(\u001b[0m\u001b[0mk\u001b[0m\u001b[1;33m)\u001b[0m\u001b[1;33m\u001b[0m\u001b[1;33m\u001b[0m\u001b[0m\n\u001b[0m\u001b[0;32m     10\u001b[0m             \u001b[1;32mif\u001b[0m \u001b[1;34m'3'\u001b[0m \u001b[1;32min\u001b[0m \u001b[0mstring\u001b[0m\u001b[1;33m:\u001b[0m\u001b[1;33m\u001b[0m\u001b[1;33m\u001b[0m\u001b[0m\n\u001b[0;32m     11\u001b[0m                 \u001b[0mcount\u001b[0m \u001b[1;33m+=\u001b[0m \u001b[1;36m1\u001b[0m\u001b[1;33m\u001b[0m\u001b[1;33m\u001b[0m\u001b[0m\n",
      "\u001b[1;31mTypeError\u001b[0m: 'int' object is not callable"
     ]
    }
   ],
   "source": [
    "# H를 입력받기\n",
    "h = int(input())\n",
    "\n",
    "count = 0\n",
    "for i in range(h + 1):\n",
    "    for j in range(60):\n",
    "        for k in range(60):\n",
    "            # 매 시각 안에 '3'이 포함되어 있다면 카운트 증가\n",
    "            if '3' in str(i) + str(j) + str(k):\n",
    "                count += 1\n",
    "\n",
    "print(count)"
   ]
  },
  {
   "cell_type": "code",
   "execution_count": null,
   "metadata": {},
   "outputs": [],
   "source": []
  },
  {
   "cell_type": "code",
   "execution_count": 64,
   "metadata": {},
   "outputs": [
    {
     "name": "stdout",
     "output_type": "stream",
     "text": [
      "a1\n",
      "2\n",
      "time: 0.0020918846130371094\n"
     ]
    }
   ],
   "source": [
    "#왕실의 나이트\n",
    "#실행시간 1초\n",
    "  \n",
    "import time\n",
    "location = input()\n",
    "start_time = time.time() # 측정 시작\n",
    "\n",
    "x = ord(location[0])-ord('a')\n",
    "\n",
    "y = int(location[1])-1 #(0,0)으로 만들기\n",
    "count = 0\n",
    "\n",
    "dx = [2, 2, -2, -2, 1, -1, 1, -1]\n",
    "dy = [1, -1, 1, -1, 2, 2, -2, -2]\n",
    "\n",
    "#print(x,y)\n",
    "\n",
    "for i in range(8):\n",
    "    nx = x + dx[i]\n",
    "    ny = y + dy[i]\n",
    "    if(0 <= nx <=7 and 0 <= ny <=7):\n",
    "        count += 1\n",
    "    \n",
    "print(count)\n",
    "\n",
    "end_time = time.time() # 측정 종료\n",
    "print(\"time:\", end_time - start_time) # 수행 시간 출력"
   ]
  },
  {
   "cell_type": "code",
   "execution_count": 65,
   "metadata": {},
   "outputs": [
    {
     "name": "stdout",
     "output_type": "stream",
     "text": [
      "a1\n",
      "2\n",
      "time: 0.0019969940185546875\n"
     ]
    }
   ],
   "source": [
    "# 현재 나이트의 위치 입력받기\n",
    "import time\n",
    "\n",
    "input_data = input()\n",
    "start_time = time.time() # 측정 시작\n",
    "\n",
    "row = int(input_data[1])\n",
    "column = int(ord(input_data[0])) - int(ord('a')) + 1\n",
    "\n",
    "# 나이트가 이동할 수 있는 8가지 방향 정의\n",
    "steps = [(-2, -1), (-1, -2), (1, -2), (2, -1), (2, 1), (1, 2), (-1, 2), (-2, 1)]\n",
    "\n",
    "# 8가지 방향에 대하여 각 위치로 이동이 가능한지 확인\n",
    "result = 0\n",
    "for step in steps:\n",
    "    # 이동하고자 하는 위치 확인\n",
    "    next_row = row + step[0]\n",
    "    next_column = column + step[1]\n",
    "    # 해당 위치로 이동이 가능하다면 카운트 증가\n",
    "    if next_row >= 1 and next_row <= 8 and next_column >= 1 and next_column <= 8:\n",
    "        result += 1\n",
    "\n",
    "print(result)\n",
    "\n",
    "end_time = time.time() # 측정 종료\n",
    "print(\"time:\", end_time - start_time) # 수행 시간 출력"
   ]
  },
  {
   "cell_type": "code",
   "execution_count": null,
   "metadata": {},
   "outputs": [],
   "source": []
  },
  {
   "cell_type": "code",
   "execution_count": null,
   "metadata": {},
   "outputs": [],
   "source": []
  },
  {
   "cell_type": "code",
   "execution_count": null,
   "metadata": {},
   "outputs": [],
   "source": []
  },
  {
   "cell_type": "code",
   "execution_count": 141,
   "metadata": {},
   "outputs": [
    {
     "name": "stdout",
     "output_type": "stream",
     "text": [
      "K1KA5CB7\n",
      "ABCKK13\n",
      "time: 0.0019948482513427734\n"
     ]
    }
   ],
   "source": [
    "#문자열 재정렬\n",
    "#실행시간 1초\n",
    "  \n",
    "import time\n",
    "word = input() #str형\n",
    "\n",
    "num=[\"0\",\"1\",\"2\",\"3\",\"4\",\"5\",\"6\",\"7\",\"8\",\"9\"] #int형\n",
    "\n",
    "english=[]\n",
    "number=[]\n",
    "\n",
    "start_time = time.time() # 측정 시작\n",
    "\n",
    "for i in word:\n",
    "    #print(i,\"====================\")\n",
    "    check=0\n",
    "    for n in num:\n",
    "        if(i == n):\n",
    "            check=1\n",
    "    if(check == 0):\n",
    "        english.append(i)\n",
    "    else:\n",
    "        number.append(int(i))\n",
    "english.sort()\n",
    "\n",
    "for e in english:\n",
    "    print(e,end=\"\")\n",
    "\n",
    "total = sum(number)\n",
    "print(total)\n",
    "\n",
    "end_time = time.time() # 측정 종료\n",
    "print(\"time:\", end_time - start_time) # 수행 시간 출력\n",
    "\n",
    "#잘못 품 : 숫자가 하나도 없는 경우 고려x"
   ]
  },
  {
   "cell_type": "code",
   "execution_count": 142,
   "metadata": {},
   "outputs": [
    {
     "name": "stdout",
     "output_type": "stream",
     "text": [
      "K1KA5CB7\n"
     ]
    },
    {
     "ename": "TypeError",
     "evalue": "'int' object is not callable",
     "output_type": "error",
     "traceback": [
      "\u001b[1;31m---------------------------------------------------------------------------\u001b[0m",
      "\u001b[1;31mTypeError\u001b[0m                                 Traceback (most recent call last)",
      "\u001b[1;32m<ipython-input-142-5979e231a66b>\u001b[0m in \u001b[0;36m<module>\u001b[1;34m\u001b[0m\n\u001b[0;32m     17\u001b[0m \u001b[1;31m#숫자가 하나라도 존재하는 경우 가장 뒤에 삽입\u001b[0m\u001b[1;33m\u001b[0m\u001b[1;33m\u001b[0m\u001b[1;33m\u001b[0m\u001b[0m\n\u001b[0;32m     18\u001b[0m \u001b[1;32mif\u001b[0m \u001b[0mvalue\u001b[0m \u001b[1;33m!=\u001b[0m \u001b[1;36m0\u001b[0m\u001b[1;33m:\u001b[0m\u001b[1;33m\u001b[0m\u001b[1;33m\u001b[0m\u001b[0m\n\u001b[1;32m---> 19\u001b[1;33m     \u001b[0mresult\u001b[0m\u001b[1;33m.\u001b[0m\u001b[0mappend\u001b[0m\u001b[1;33m(\u001b[0m\u001b[0mstr\u001b[0m\u001b[1;33m(\u001b[0m\u001b[0mvalue\u001b[0m\u001b[1;33m)\u001b[0m\u001b[1;33m)\u001b[0m\u001b[1;33m\u001b[0m\u001b[1;33m\u001b[0m\u001b[0m\n\u001b[0m\u001b[0;32m     20\u001b[0m \u001b[1;33m\u001b[0m\u001b[0m\n\u001b[0;32m     21\u001b[0m \u001b[1;31m#최종 결과 출력(리스트를 문자열로 변환하여 출력)\u001b[0m\u001b[1;33m\u001b[0m\u001b[1;33m\u001b[0m\u001b[1;33m\u001b[0m\u001b[0m\n",
      "\u001b[1;31mTypeError\u001b[0m: 'int' object is not callable"
     ]
    }
   ],
   "source": [
    "data = input()\n",
    "result = []\n",
    "value = 0\n",
    "\n",
    "#문자를 하나씩 확인하며\n",
    "for x in data:\n",
    "    #알파벳인 경우 결과 리스트에 삽입\n",
    "    if x.isalpha():\n",
    "        result.append(x)\n",
    "    #숫자는 따로 더하기\n",
    "    else:\n",
    "        value += int(x)\n",
    "        \n",
    "#알파벳을 오름차순으로 정렬\n",
    "result.sort()\n",
    "\n",
    "#숫자가 하나라도 존재하는 경우 가장 뒤에 삽입\n",
    "if value != 0:\n",
    "    result.append(str(value))\n",
    "    \n",
    "#최종 결과 출력(리스트를 문자열로 변환하여 출력)\n",
    "print(\"\".join(result))"
   ]
  }
 ],
 "metadata": {
  "kernelspec": {
   "display_name": "Python 3",
   "language": "python",
   "name": "python3"
  },
  "language_info": {
   "codemirror_mode": {
    "name": "ipython",
    "version": 3
   },
   "file_extension": ".py",
   "mimetype": "text/x-python",
   "name": "python",
   "nbconvert_exporter": "python",
   "pygments_lexer": "ipython3",
   "version": "3.8.5"
  }
 },
 "nbformat": 4,
 "nbformat_minor": 4
}
