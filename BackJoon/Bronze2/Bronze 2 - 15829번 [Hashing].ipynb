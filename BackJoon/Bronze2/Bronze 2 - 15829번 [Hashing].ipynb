{
 "cells": [
  {
   "cell_type": "code",
   "execution_count": 26,
   "metadata": {},
   "outputs": [
    {
     "name": "stdout",
     "output_type": "stream",
     "text": [
      "5\n",
      "abcde\n",
      "4739715\n"
     ]
    }
   ],
   "source": [
    "# r의 값은 26보다 큰 소수인 31로 하고\n",
    "# M의 값은 1234567891\n",
    "\n",
    "n = int(input())\n",
    "number_list = list(input())\n",
    "total_num = 0\n",
    "\n",
    "for i in range(n): \n",
    "    total_num += (ord(number_list[i])-96) * (31**i)\n",
    "    \n",
    "print(total_num % 1234567891)"
   ]
  },
  {
   "cell_type": "code",
   "execution_count": 27,
   "metadata": {},
   "outputs": [
    {
     "name": "stdout",
     "output_type": "stream",
     "text": [
      "5\n",
      "abcde\n",
      "4739715\n"
     ]
    }
   ],
   "source": [
    "#다른 사람 코드\n",
    "r=31\n",
    "m=1234567891\n",
    "n=int(input())\n",
    "s=input()\n",
    "print(sum((ord(c)-96)*r**i%m for i, c in enumerate(s))%m)"
   ]
  },
  {
   "cell_type": "code",
   "execution_count": 31,
   "metadata": {},
   "outputs": [
    {
     "name": "stdout",
     "output_type": "stream",
     "text": [
      "5\n",
      "abcde\n",
      "4739715\n"
     ]
    }
   ],
   "source": [
    "#다른 사람 코드 분리해서 보기\n",
    "r=31\n",
    "m=1234567891\n",
    "n=int(input())\n",
    "s=input()\n",
    "sum_list = [(ord(c)-96)*r**i%m for i, c in enumerate(s)]\n",
    "total = sum(sum_list)\n",
    "print(total%m)\n",
    "\n",
    "#중요 포인트\n",
    "'''\n",
    "덧셈, 곱셈은 매번 나머지 연산을 수행해서 계산해도 된다.\n",
    "\n",
    "예) (6+3) % 3 = ((6%3) + (3%3)) % 3\n",
    "'''"
   ]
  }
 ],
 "metadata": {
  "kernelspec": {
   "display_name": "Python 3",
   "language": "python",
   "name": "python3"
  },
  "language_info": {
   "codemirror_mode": {
    "name": "ipython",
    "version": 3
   },
   "file_extension": ".py",
   "mimetype": "text/x-python",
   "name": "python",
   "nbconvert_exporter": "python",
   "pygments_lexer": "ipython3",
   "version": "3.8.5"
  }
 },
 "nbformat": 4,
 "nbformat_minor": 4
}
