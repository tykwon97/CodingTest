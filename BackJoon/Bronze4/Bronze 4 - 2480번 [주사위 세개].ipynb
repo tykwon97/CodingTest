{
 "cells": [
  {
   "cell_type": "code",
   "execution_count": 16,
   "metadata": {},
   "outputs": [
    {
     "name": "stdout",
     "output_type": "stream",
     "text": [
      "6 2 5\n",
      "600\n"
     ]
    }
   ],
   "source": [
    "user_input = list(map(int,input().split()))\n",
    "arr = [0]*6\n",
    "for x in user_input:\n",
    "    arr[x-1] = arr[x-1] + 1\n",
    "\n",
    "check=0\n",
    "for n in range(6):\n",
    "    if(arr[n]==3):\n",
    "        print(10000+(n+1)*1000)\n",
    "        check = 1\n",
    "    if(arr[n]==2):\n",
    "        print(1000+(n+1)*100)\n",
    "        check = 1\n",
    "        \n",
    "if(check == 0):        \n",
    "    max_num = user_input[0]\n",
    "    for x in user_input:\n",
    "        if(max_num < x):\n",
    "            max_num = x\n",
    "    print(max_num*100)"
   ]
  },
  {
   "cell_type": "code",
   "execution_count": 17,
   "metadata": {},
   "outputs": [
    {
     "name": "stdout",
     "output_type": "stream",
     "text": [
      "6 2 5\n",
      "600\n"
     ]
    }
   ],
   "source": [
    "#다른 사람 코드 보고 수정한 부분 -> 최대 값 구하는 부분 max()함수 활용하기\n",
    "#count함수도 활용할 수 있을듯 -> 생각해보기\n",
    "user_input = list(map(int,input().split()))\n",
    "arr = [0]*6\n",
    "for x in user_input:\n",
    "    arr[x-1] = arr[x-1] + 1\n",
    "\n",
    "check=0\n",
    "for n in range(6):\n",
    "    if(arr[n]==3):\n",
    "        print(10000+(n+1)*1000)\n",
    "        check = 1\n",
    "    if(arr[n]==2):\n",
    "        print(1000+(n+1)*100)\n",
    "        check = 1\n",
    "        \n",
    "if(check == 0):        \n",
    "    print(max(user_input)*100)"
   ]
  },
  {
   "cell_type": "code",
   "execution_count": 18,
   "metadata": {},
   "outputs": [
    {
     "name": "stdout",
     "output_type": "stream",
     "text": [
      "6 2 5\n",
      "600\n"
     ]
    }
   ],
   "source": [
    "#다른 사람 코드1\n",
    "*_,a,b,c=sorted(input());print(['1'+b,c][a<b<c]+'000'[a<c:])"
   ]
  },
  {
   "cell_type": "code",
   "execution_count": 19,
   "metadata": {},
   "outputs": [
    {
     "name": "stdout",
     "output_type": "stream",
     "text": [
      "6 2 5\n",
      "600\n"
     ]
    }
   ],
   "source": [
    "#다른 사람 코드2\n",
    "a,b,c=sorted(map(int,input().split()))\n",
    "print([c,b+10,b*10+100][[a,b,c].count(b)-1]*100)"
   ]
  }
 ],
 "metadata": {
  "kernelspec": {
   "display_name": "Python 3",
   "language": "python",
   "name": "python3"
  },
  "language_info": {
   "codemirror_mode": {
    "name": "ipython",
    "version": 3
   },
   "file_extension": ".py",
   "mimetype": "text/x-python",
   "name": "python",
   "nbconvert_exporter": "python",
   "pygments_lexer": "ipython3",
   "version": "3.8.5"
  }
 },
 "nbformat": 4,
 "nbformat_minor": 4
}
