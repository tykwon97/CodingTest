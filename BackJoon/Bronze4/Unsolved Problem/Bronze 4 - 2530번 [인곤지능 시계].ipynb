{
 "cells": [
  {
   "cell_type": "code",
   "execution_count": 3,
   "metadata": {},
   "outputs": [
    {
     "name": "stdout",
     "output_type": "stream",
     "text": [
      "0 0 0\n",
      "216000\n",
      "12 0 0\n"
     ]
    }
   ],
   "source": [
    "#단순 실수\n",
    "hour,minute,second, = map(int,input().split())\n",
    "sec = int(input())\n",
    "second += sec%60 #초\n",
    "minute += (second//60 + sec//60%60) #second에서 넘어온 분 + 기존 분\n",
    "hour += (minute//60 + sec//60//60) #minute에서 넘어온 시간 + 기존 시간\n",
    "print(hour%24, minute%60, second%60)"
   ]
  }
 ],
 "metadata": {
  "kernelspec": {
   "display_name": "Python 3",
   "language": "python",
   "name": "python3"
  },
  "language_info": {
   "codemirror_mode": {
    "name": "ipython",
    "version": 3
   },
   "file_extension": ".py",
   "mimetype": "text/x-python",
   "name": "python",
   "nbconvert_exporter": "python",
   "pygments_lexer": "ipython3",
   "version": "3.8.5"
  }
 },
 "nbformat": 4,
 "nbformat_minor": 4
}
