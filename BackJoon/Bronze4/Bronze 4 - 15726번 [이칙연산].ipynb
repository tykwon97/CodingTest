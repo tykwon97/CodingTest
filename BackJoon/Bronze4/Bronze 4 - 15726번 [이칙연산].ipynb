{
 "cells": [
  {
   "cell_type": "code",
   "execution_count": 13,
   "metadata": {},
   "outputs": [
    {
     "name": "stdout",
     "output_type": "stream",
     "text": [
      "10 200 300\n",
      "15\n"
     ]
    }
   ],
   "source": [
    "#다음과 같이 세 수가 연속해서 주어졌을 때 한 번의 곱셈 기호와 한 번의 나눗셈 기호를 이용하여 만든 식 중 \n",
    "#가장 큰 값을 출력하는 프로그램을 작성하시오. (세 수의 순서는 변하지 않는다.)\n",
    "\n",
    "#32 ☐ 16 ☐ 8\n",
    "\n",
    "a,b,c = map(int,input().split())\n",
    "if(b>= c):\n",
    "    print(a*b//c)\n",
    "else:\n",
    "    print(int(a/b*c))"
   ]
  },
  {
   "cell_type": "code",
   "execution_count": 16,
   "metadata": {},
   "outputs": [
    {
     "name": "stdout",
     "output_type": "stream",
     "text": [
      "10 200 300\n",
      "15\n"
     ]
    }
   ],
   "source": [
    "#다른 사람 코드 -> 이건 아니지....\n",
    "v,w,x=map(int,input().split())\n",
    "print(int(max(v*w/x,v/w*x)))"
   ]
  }
 ],
 "metadata": {
  "kernelspec": {
   "display_name": "Python 3",
   "language": "python",
   "name": "python3"
  },
  "language_info": {
   "codemirror_mode": {
    "name": "ipython",
    "version": 3
   },
   "file_extension": ".py",
   "mimetype": "text/x-python",
   "name": "python",
   "nbconvert_exporter": "python",
   "pygments_lexer": "ipython3",
   "version": "3.8.5"
  }
 },
 "nbformat": 4,
 "nbformat_minor": 4
}
