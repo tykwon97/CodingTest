{
 "cells": [
  {
   "cell_type": "code",
   "execution_count": 22,
   "metadata": {},
   "outputs": [
    {
     "name": "stdout",
     "output_type": "stream",
     "text": [
      "2 2\n",
      "-1\n"
     ]
    },
    {
     "data": {
      "text/plain": [
       "'\\na = x+y\\nb = x-y\\na+b = 2x\\na-b = 2y\\n'"
      ]
     },
     "execution_count": 22,
     "metadata": {},
     "output_type": "execute_result"
    }
   ],
   "source": [
    "a,b = map(int,input().split())\n",
    "x = (a+b)/2\n",
    "y = (a-b)/2\n",
    "if(x-int(x)== 0.0 and  y-int(y)== 0.0 and a>=b):\n",
    "    print(int(x),int(y))\n",
    "else:\n",
    "    print(\"-1\")\n",
    "    \n",
    "\n",
    "'''\n",
    "a = x+y\n",
    "b = x-y\n",
    "a+b = 2x\n",
    "a-b = 2y\n",
    "'''"
   ]
  }
 ],
 "metadata": {
  "kernelspec": {
   "display_name": "Python 3",
   "language": "python",
   "name": "python3"
  },
  "language_info": {
   "codemirror_mode": {
    "name": "ipython",
    "version": 3
   },
   "file_extension": ".py",
   "mimetype": "text/x-python",
   "name": "python",
   "nbconvert_exporter": "python",
   "pygments_lexer": "ipython3",
   "version": "3.8.5"
  }
 },
 "nbformat": 4,
 "nbformat_minor": 4
}
