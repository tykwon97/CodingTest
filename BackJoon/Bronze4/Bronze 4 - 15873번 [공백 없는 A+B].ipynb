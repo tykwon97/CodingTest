{
 "cells": [
  {
   "cell_type": "code",
   "execution_count": 11,
   "metadata": {},
   "outputs": [
    {
     "name": "stdout",
     "output_type": "stream",
     "text": [
      "1010\n",
      "20\n"
     ]
    }
   ],
   "source": [
    "user_input = list(map(int,input()))\n",
    "if(len(user_input) == 3):\n",
    "    if(user_input[1]==0):\n",
    "        print(user_input[0]*10+user_input[1]+user_input[2])\n",
    "    else:\n",
    "        print(user_input[0]+user_input[1]*10+user_input[2])\n",
    "            \n",
    "elif(len(user_input) == 4) :\n",
    "    print(user_input[0]*10+user_input[1]+(user_input[2]*10+user_input[3]))\n",
    "else :\n",
    "    print(user_input[0]+user_input[1])"
   ]
  },
  {
   "cell_type": "code",
   "execution_count": 7,
   "metadata": {},
   "outputs": [
    {
     "name": "stdout",
     "output_type": "stream",
     "text": [
      "1010\n",
      "20\n"
     ]
    }
   ],
   "source": [
    "#다른 사람 코드\n",
    "#10진수의 자리 값이 최대 1 밖에 나오지 못하는 것을 이용\n",
    "print(sum(int(c)+9for c in input())-18)"
   ]
  }
 ],
 "metadata": {
  "kernelspec": {
   "display_name": "Python 3",
   "language": "python",
   "name": "python3"
  },
  "language_info": {
   "codemirror_mode": {
    "name": "ipython",
    "version": 3
   },
   "file_extension": ".py",
   "mimetype": "text/x-python",
   "name": "python",
   "nbconvert_exporter": "python",
   "pygments_lexer": "ipython3",
   "version": "3.8.5"
  }
 },
 "nbformat": 4,
 "nbformat_minor": 4
}
