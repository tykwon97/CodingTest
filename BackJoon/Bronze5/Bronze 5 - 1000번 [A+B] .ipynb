{
 "cells": [
  {
   "cell_type": "code",
   "execution_count": 11,
   "metadata": {},
   "outputs": [
    {
     "name": "stdout",
     "output_type": "stream",
     "text": [
      "2 3\n",
      "5\n"
     ]
    }
   ],
   "source": [
    "#A+B - 1000번\n",
    "input_data =input()\n",
    "a,b = input_data.split()\n",
    "print(int(a)+int(b))"
   ]
  },
  {
   "cell_type": "code",
   "execution_count": 12,
   "metadata": {},
   "outputs": [
    {
     "name": "stdout",
     "output_type": "stream",
     "text": [
      "2 3\n",
      "5\n"
     ]
    }
   ],
   "source": [
    "#A+B - 1000번 (더 좋은 방법)\n",
    "print(sum(map(int,input().split())))"
   ]
  },
  {
   "cell_type": "code",
   "execution_count": 34,
   "metadata": {
    "scrolled": false
   },
   "outputs": [
    {
     "name": "stdout",
     "output_type": "stream",
     "text": [
      "2 3\n",
      "['2', '3']\n",
      "\n",
      "2 3\n",
      "<map object at 0x0000022307E27DC0>\n",
      "[2, 3]\n",
      "3\n",
      "11111\n"
     ]
    }
   ],
   "source": [
    "#map 설명\n",
    "a = input().split()\n",
    "print(a)\n",
    "\n",
    "print()\n",
    "\n",
    "b = map(int, input().split())\n",
    "print(b)\n",
    "print(list(b))\n",
    "\n",
    "#sum 설명\n",
    "c = [1,2]\n",
    "print(sum(c))\n",
    "d = (1,10,100,1000,10000)\n",
    "print(sum(d))"
   ]
  }
 ],
 "metadata": {
  "kernelspec": {
   "display_name": "Python 3",
   "language": "python",
   "name": "python3"
  },
  "language_info": {
   "codemirror_mode": {
    "name": "ipython",
    "version": 3
   },
   "file_extension": ".py",
   "mimetype": "text/x-python",
   "name": "python",
   "nbconvert_exporter": "python",
   "pygments_lexer": "ipython3",
   "version": "3.8.5"
  }
 },
 "nbformat": 4,
 "nbformat_minor": 4
}
