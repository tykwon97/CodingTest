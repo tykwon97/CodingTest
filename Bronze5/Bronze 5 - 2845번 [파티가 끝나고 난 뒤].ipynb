{
 "cells": [
  {
   "cell_type": "code",
   "execution_count": 9,
   "metadata": {},
   "outputs": [
    {
     "name": "stdout",
     "output_type": "stream",
     "text": [
      "5 10\n",
      "50 60\n",
      "0 10 "
     ]
    },
    {
     "data": {
      "text/plain": [
       "[None, None]"
      ]
     },
     "execution_count": 9,
     "metadata": {},
     "output_type": "execute_result"
    }
   ],
   "source": [
    "my_predict = list(map(int, input().split()))\n",
    "news_predict = list(map(int, input().split()))\n",
    "\n",
    "my_answer = my_predict[0] * my_predict[1]\n",
    "\n",
    "[print(x - my_answer,end =\" \") for x in news_predict ]"
   ]
  },
  {
   "cell_type": "code",
   "execution_count": 10,
   "metadata": {},
   "outputs": [
    {
     "name": "stdout",
     "output_type": "stream",
     "text": [
      "5 10\n",
      "50 60 70 40\n",
      "0 10 20 -10 "
     ]
    }
   ],
   "source": [
    "#새로운 답안\n",
    "L, P = map(int, input().split())\n",
    "news = list(map(int, input().split()))\n",
    "N = L * P\n",
    "for i in range(len(news)):\n",
    "    news[i] -= N\n",
    "for new in news:\n",
    "    print(new, end=' ')"
   ]
  }
 ],
 "metadata": {
  "kernelspec": {
   "display_name": "Python 3",
   "language": "python",
   "name": "python3"
  },
  "language_info": {
   "codemirror_mode": {
    "name": "ipython",
    "version": 3
   },
   "file_extension": ".py",
   "mimetype": "text/x-python",
   "name": "python",
   "nbconvert_exporter": "python",
   "pygments_lexer": "ipython3",
   "version": "3.8.5"
  }
 },
 "nbformat": 4,
 "nbformat_minor": 4
}
